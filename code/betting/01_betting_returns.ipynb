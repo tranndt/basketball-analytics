{
 "cells": [
  {
   "cell_type": "code",
   "execution_count": 2,
   "metadata": {},
   "outputs": [],
   "source": [
    "import sys\n",
    "sys.path.insert(0,\"../../\")\n",
    "\n",
    "from library import *\n",
    "import numpy as np\n",
    "import pandas as pd\n",
    "import matplotlib.pyplot as plt\n",
    "import seaborn as sns\n"
   ]
  },
  {
   "cell_type": "markdown",
   "metadata": {},
   "source": [
    "# Bet"
   ]
  },
  {
   "cell_type": "code",
   "execution_count": 312,
   "metadata": {},
   "outputs": [],
   "source": [
    "class Bet:\n",
    "    def __init__(self,desc=None,bet=True,amount=0,odds=0.5,prior=1):\n",
    "        self.desc = desc\n",
    "        self.amount = -abs(amount)\n",
    "        self.prior = prior\n",
    "        self.odds = odds\n",
    "        self.odds_a = 1/(1-1/self.odds)\n",
    "\n",
    "        self.p = 1/self.odds\n",
    "        self.p_a = 1-self.p\n",
    "\n",
    "        self.pot_ret = amount * self.odds\n",
    "        self.pot_ret_a = amount * self.odds_a\n",
    "        self.x_ret = self.pot_ret * self.p + self.amount*(1-self.p)\n",
    "        self.x_rev = self.x_ret + self.amount\n",
    "        self.x_ret_a = self.pot_ret_a * self.p_a + self.amount*(1-self.p_a)\n",
    "        self.x_rev_a = self.x_ret_a + self.amount\n",
    "        self.bet = bet\n",
    "        self.success = 0\n",
    "        self.returns = 0\n",
    "        self.revenue = 0\n",
    "\n",
    "\n",
    "    def materialize(self,desc,outcome):\n",
    "        if desc == self.desc:\n",
    "            self.success = {True:1,False:-1}[outcome == self.bet]\n",
    "            self.returns = abs(self.amount) * self.odds if outcome == self.bet else 0\n",
    "            self.revenue = self.returns + self.amount\n",
    "        return self\n",
    "\n",
    "    def as_frame(self):\n",
    "        return pd.DataFrame([{\n",
    "            'desc'      : self.desc,\n",
    "            'bet'       : self.bet,\n",
    "            'amount'    : np.round(self.amount,2),\n",
    "            'prior'     : np.round(self.prior,2),\n",
    "            'odds'      : np.round(self.odds,2),\n",
    "            'odds_a'    : np.round(self.odds_a,2),\n",
    "            'p'         : np.round(self.p,2),\n",
    "            'p_a'       : np.round(self.p_a,2),\n",
    "            'pot_ret'   : np.round(self.pot_ret,2),\n",
    "            'pot_ret_a' : np.round(self.pot_ret_a,2),\n",
    "            'x_ret'     : np.round(self.x_ret,2),\n",
    "            'x_ret_a'   : np.round(self.x_ret_a,2),\n",
    "            'x_rev'     : np.round(self.x_rev,2),\n",
    "            'x_rev_a'   : np.round(self.x_rev_a,2),\n",
    "            'success'   : np.round(self.success,2),\n",
    "            'returns'   : np.round(self.returns,2),\n",
    "            'revenue'   : np.round(self.revenue,2),  \n",
    "        }])\n",
    "\n",
    "\n",
    "class BetSlip:\n",
    "    def __init__(self):\n",
    "        self.bets = []\n",
    "\n",
    "    def add_bet(self,*bets):\n",
    "        self.bets += bets\n",
    "\n",
    "    def add_outcome(self,desc,outcome):\n",
    "        for bet in self.bets:\n",
    "            bet.materialize(desc,outcome)\n",
    "\n",
    "    def as_frame(self):\n",
    "        bet_frame = pd.concat([b.as_frame() for b in self.bets],axis=0,ignore_index=True)\n",
    "        cols_sum = ['amount','pot_ret','x_ret','x_rev','pot_ret_a','x_ret_a','x_rev_a','success','returns','revenue']\n",
    "        cols_avg = ['odds','odds_a']\n",
    "        bet_frame.loc[\"Total\",cols_sum] = np.round(bet_frame[cols_sum].sum(),2)\n",
    "        bet_frame.loc[\"Total\",cols_avg] = np.round(bet_frame[cols_avg].mean(),2)\n",
    "        bet_frame.loc[\"Total\",bet_frame.columns.drop([*cols_sum,*cols_avg])] = ''\n",
    "        return bet_frame\n",
    "\n",
    "    def total_returns(self):\n",
    "        return self.as_frame()['returns'].sum()\n",
    "\n",
    "    def total_bets(self):\n",
    "        return self.as_frame()['amount'].sum()\n",
    "\n",
    "    def net_revenue(self):\n",
    "        return self.total_returns() - self.total_bets()\n"
   ]
  },
  {
   "cell_type": "code",
   "execution_count": 313,
   "metadata": {},
   "outputs": [
    {
     "data": {
      "text/html": [
       "<div>\n",
       "<style scoped>\n",
       "    .dataframe tbody tr th:only-of-type {\n",
       "        vertical-align: middle;\n",
       "    }\n",
       "\n",
       "    .dataframe tbody tr th {\n",
       "        vertical-align: top;\n",
       "    }\n",
       "\n",
       "    .dataframe thead th {\n",
       "        text-align: right;\n",
       "    }\n",
       "</style>\n",
       "<table border=\"1\" class=\"dataframe\">\n",
       "  <thead>\n",
       "    <tr style=\"text-align: right;\">\n",
       "      <th></th>\n",
       "      <th>desc</th>\n",
       "      <th>bet</th>\n",
       "      <th>amount</th>\n",
       "      <th>prior</th>\n",
       "      <th>odds</th>\n",
       "      <th>odds_a</th>\n",
       "      <th>p</th>\n",
       "      <th>p_a</th>\n",
       "      <th>pot_ret</th>\n",
       "      <th>pot_ret_a</th>\n",
       "      <th>x_ret</th>\n",
       "      <th>x_ret_a</th>\n",
       "      <th>x_rev</th>\n",
       "      <th>x_rev_a</th>\n",
       "      <th>success</th>\n",
       "      <th>returns</th>\n",
       "      <th>revenue</th>\n",
       "    </tr>\n",
       "  </thead>\n",
       "  <tbody>\n",
       "    <tr>\n",
       "      <th>0</th>\n",
       "      <td>Giannis scores 30pts</td>\n",
       "      <td>False</td>\n",
       "      <td>-10</td>\n",
       "      <td>0.6</td>\n",
       "      <td>1.25</td>\n",
       "      <td>5.0</td>\n",
       "      <td>0.8</td>\n",
       "      <td>0.2</td>\n",
       "      <td>12.5</td>\n",
       "      <td>50.0</td>\n",
       "      <td>8.0</td>\n",
       "      <td>2.0</td>\n",
       "      <td>-2.0</td>\n",
       "      <td>-8.0</td>\n",
       "      <td>0</td>\n",
       "      <td>0</td>\n",
       "      <td>0</td>\n",
       "    </tr>\n",
       "  </tbody>\n",
       "</table>\n",
       "</div>"
      ],
      "text/plain": [
       "                   desc    bet  amount  prior  odds  odds_a    p  p_a  \\\n",
       "0  Giannis scores 30pts  False     -10    0.6  1.25     5.0  0.8  0.2   \n",
       "\n",
       "   pot_ret  pot_ret_a  x_ret  x_ret_a  x_rev  x_rev_a  success  returns  \\\n",
       "0     12.5       50.0    8.0      2.0   -2.0     -8.0        0        0   \n",
       "\n",
       "   revenue  \n",
       "0        0  "
      ]
     },
     "execution_count": 313,
     "metadata": {},
     "output_type": "execute_result"
    }
   ],
   "source": [
    "b = Bet(\"Chicago wins/ties 1st half\",True,5,4.0,prior=0.6)\n",
    "b2 = Bet(\"Milwaukee wins/ties 1st half\",True,10,2.0,prior=0.6)\n",
    "b3 = Bet(\"Giannis scores 30pts\",False,10,1.25,prior=0.6)\n",
    "b3.as_frame()"
   ]
  },
  {
   "cell_type": "code",
   "execution_count": 303,
   "metadata": {},
   "outputs": [
    {
     "data": {
      "text/html": [
       "<div>\n",
       "<style scoped>\n",
       "    .dataframe tbody tr th:only-of-type {\n",
       "        vertical-align: middle;\n",
       "    }\n",
       "\n",
       "    .dataframe tbody tr th {\n",
       "        vertical-align: top;\n",
       "    }\n",
       "\n",
       "    .dataframe thead th {\n",
       "        text-align: right;\n",
       "    }\n",
       "</style>\n",
       "<table border=\"1\" class=\"dataframe\">\n",
       "  <thead>\n",
       "    <tr style=\"text-align: right;\">\n",
       "      <th></th>\n",
       "      <th>desc</th>\n",
       "      <th>bet</th>\n",
       "      <th>amount</th>\n",
       "      <th>odds</th>\n",
       "      <th>odds_a</th>\n",
       "      <th>p</th>\n",
       "      <th>p_a</th>\n",
       "      <th>pot_ret</th>\n",
       "      <th>pot_ret_a</th>\n",
       "      <th>x_ret</th>\n",
       "      <th>x_ret_a</th>\n",
       "      <th>x_rev</th>\n",
       "      <th>x_rev_a</th>\n",
       "      <th>success</th>\n",
       "      <th>returns</th>\n",
       "      <th>revenue</th>\n",
       "    </tr>\n",
       "  </thead>\n",
       "  <tbody>\n",
       "    <tr>\n",
       "      <th>0</th>\n",
       "      <td>Chicago wins/ties 1st half</td>\n",
       "      <td>True</td>\n",
       "      <td>-5.0</td>\n",
       "      <td>4.00</td>\n",
       "      <td>1.33</td>\n",
       "      <td>0.25</td>\n",
       "      <td>0.75</td>\n",
       "      <td>20.0</td>\n",
       "      <td>6.67</td>\n",
       "      <td>1.25</td>\n",
       "      <td>3.75</td>\n",
       "      <td>-3.75</td>\n",
       "      <td>-1.25</td>\n",
       "      <td>0.0</td>\n",
       "      <td>0.0</td>\n",
       "      <td>0.0</td>\n",
       "    </tr>\n",
       "    <tr>\n",
       "      <th>1</th>\n",
       "      <td>Milwaukee wins/ties 1st half</td>\n",
       "      <td>True</td>\n",
       "      <td>-10.0</td>\n",
       "      <td>2.00</td>\n",
       "      <td>2.00</td>\n",
       "      <td>0.5</td>\n",
       "      <td>0.5</td>\n",
       "      <td>20.0</td>\n",
       "      <td>20.00</td>\n",
       "      <td>5.00</td>\n",
       "      <td>5.00</td>\n",
       "      <td>-5.00</td>\n",
       "      <td>-5.00</td>\n",
       "      <td>0.0</td>\n",
       "      <td>0.0</td>\n",
       "      <td>0.0</td>\n",
       "    </tr>\n",
       "    <tr>\n",
       "      <th>2</th>\n",
       "      <td>Giannis scores 30pts</td>\n",
       "      <td>False</td>\n",
       "      <td>-10.0</td>\n",
       "      <td>1.25</td>\n",
       "      <td>5.00</td>\n",
       "      <td>0.8</td>\n",
       "      <td>0.2</td>\n",
       "      <td>12.5</td>\n",
       "      <td>50.00</td>\n",
       "      <td>8.00</td>\n",
       "      <td>2.00</td>\n",
       "      <td>-2.00</td>\n",
       "      <td>-8.00</td>\n",
       "      <td>0.0</td>\n",
       "      <td>0.0</td>\n",
       "      <td>0.0</td>\n",
       "    </tr>\n",
       "    <tr>\n",
       "      <th>Total</th>\n",
       "      <td></td>\n",
       "      <td></td>\n",
       "      <td>-25.0</td>\n",
       "      <td>2.42</td>\n",
       "      <td>2.78</td>\n",
       "      <td></td>\n",
       "      <td></td>\n",
       "      <td>52.5</td>\n",
       "      <td>76.67</td>\n",
       "      <td>14.25</td>\n",
       "      <td>10.75</td>\n",
       "      <td>-10.75</td>\n",
       "      <td>-14.25</td>\n",
       "      <td>0.0</td>\n",
       "      <td>0.0</td>\n",
       "      <td>0.0</td>\n",
       "    </tr>\n",
       "  </tbody>\n",
       "</table>\n",
       "</div>"
      ],
      "text/plain": [
       "                               desc    bet  amount  odds  odds_a     p   p_a  \\\n",
       "0        Chicago wins/ties 1st half   True    -5.0  4.00    1.33  0.25  0.75   \n",
       "1      Milwaukee wins/ties 1st half   True   -10.0  2.00    2.00   0.5   0.5   \n",
       "2              Giannis scores 30pts  False   -10.0  1.25    5.00   0.8   0.2   \n",
       "Total                                        -25.0  2.42    2.78               \n",
       "\n",
       "       pot_ret  pot_ret_a  x_ret  x_ret_a  x_rev  x_rev_a  success  returns  \\\n",
       "0         20.0       6.67   1.25     3.75  -3.75    -1.25      0.0      0.0   \n",
       "1         20.0      20.00   5.00     5.00  -5.00    -5.00      0.0      0.0   \n",
       "2         12.5      50.00   8.00     2.00  -2.00    -8.00      0.0      0.0   \n",
       "Total     52.5      76.67  14.25    10.75 -10.75   -14.25      0.0      0.0   \n",
       "\n",
       "       revenue  \n",
       "0          0.0  \n",
       "1          0.0  \n",
       "2          0.0  \n",
       "Total      0.0  "
      ]
     },
     "execution_count": 303,
     "metadata": {},
     "output_type": "execute_result"
    }
   ],
   "source": [
    "s = BetSlip()\n",
    "s.add_bet(b,b2,b3)\n",
    "s.as_frame()"
   ]
  },
  {
   "cell_type": "code",
   "execution_count": 249,
   "metadata": {},
   "outputs": [
    {
     "data": {
      "text/html": [
       "<div>\n",
       "<style scoped>\n",
       "    .dataframe tbody tr th:only-of-type {\n",
       "        vertical-align: middle;\n",
       "    }\n",
       "\n",
       "    .dataframe tbody tr th {\n",
       "        vertical-align: top;\n",
       "    }\n",
       "\n",
       "    .dataframe thead th {\n",
       "        text-align: right;\n",
       "    }\n",
       "</style>\n",
       "<table border=\"1\" class=\"dataframe\">\n",
       "  <thead>\n",
       "    <tr style=\"text-align: right;\">\n",
       "      <th></th>\n",
       "      <th>desc</th>\n",
       "      <th>bet</th>\n",
       "      <th>amount</th>\n",
       "      <th>odds</th>\n",
       "      <th>pot_ret</th>\n",
       "      <th>p_bet</th>\n",
       "      <th>x_ret</th>\n",
       "      <th>x_rev</th>\n",
       "      <th>success</th>\n",
       "      <th>returns</th>\n",
       "      <th>revenue</th>\n",
       "    </tr>\n",
       "  </thead>\n",
       "  <tbody>\n",
       "    <tr>\n",
       "      <th>0</th>\n",
       "      <td>Chicago wins/ties 1st half</td>\n",
       "      <td>True</td>\n",
       "      <td>-5.0</td>\n",
       "      <td>4.00</td>\n",
       "      <td>20.0</td>\n",
       "      <td>0.25</td>\n",
       "      <td>1.25</td>\n",
       "      <td>-3.75</td>\n",
       "      <td>-1.0</td>\n",
       "      <td>0.0</td>\n",
       "      <td>-5.0</td>\n",
       "    </tr>\n",
       "    <tr>\n",
       "      <th>1</th>\n",
       "      <td>Milwaukee wins/ties 1st half</td>\n",
       "      <td>True</td>\n",
       "      <td>-10.0</td>\n",
       "      <td>2.00</td>\n",
       "      <td>20.0</td>\n",
       "      <td>0.50</td>\n",
       "      <td>5.00</td>\n",
       "      <td>-5.00</td>\n",
       "      <td>1.0</td>\n",
       "      <td>20.0</td>\n",
       "      <td>10.0</td>\n",
       "    </tr>\n",
       "    <tr>\n",
       "      <th>2</th>\n",
       "      <td>Giannis scores 30pts</td>\n",
       "      <td>False</td>\n",
       "      <td>-10.0</td>\n",
       "      <td>1.25</td>\n",
       "      <td>12.5</td>\n",
       "      <td>0.80</td>\n",
       "      <td>8.00</td>\n",
       "      <td>-2.00</td>\n",
       "      <td>0.0</td>\n",
       "      <td>0.0</td>\n",
       "      <td>0.0</td>\n",
       "    </tr>\n",
       "    <tr>\n",
       "      <th>Total</th>\n",
       "      <td></td>\n",
       "      <td></td>\n",
       "      <td>-25.0</td>\n",
       "      <td>2.42</td>\n",
       "      <td>52.5</td>\n",
       "      <td>0.52</td>\n",
       "      <td>14.25</td>\n",
       "      <td>-10.75</td>\n",
       "      <td>0.0</td>\n",
       "      <td>20.0</td>\n",
       "      <td>5.0</td>\n",
       "    </tr>\n",
       "  </tbody>\n",
       "</table>\n",
       "</div>"
      ],
      "text/plain": [
       "                               desc    bet  amount  odds  pot_ret  p_bet  \\\n",
       "0        Chicago wins/ties 1st half   True    -5.0  4.00     20.0   0.25   \n",
       "1      Milwaukee wins/ties 1st half   True   -10.0  2.00     20.0   0.50   \n",
       "2              Giannis scores 30pts  False   -10.0  1.25     12.5   0.80   \n",
       "Total                                        -25.0  2.42     52.5   0.52   \n",
       "\n",
       "       x_ret  x_rev  success  returns  revenue  \n",
       "0       1.25  -3.75     -1.0      0.0     -5.0  \n",
       "1       5.00  -5.00      1.0     20.0     10.0  \n",
       "2       8.00  -2.00      0.0      0.0      0.0  \n",
       "Total  14.25 -10.75      0.0     20.0      5.0  "
      ]
     },
     "execution_count": 249,
     "metadata": {},
     "output_type": "execute_result"
    }
   ],
   "source": [
    "s.add_outcome(\"Chicago wins/ties 1st half\",False)\n",
    "s.add_outcome(\"Milwaukee wins/ties 1st half\",True)\n",
    "s.as_frame()"
   ]
  },
  {
   "cell_type": "code",
   "execution_count": 276,
   "metadata": {},
   "outputs": [
    {
     "data": {
      "text/plain": [
       "[0.2689414213699951,\n",
       " 0.42388311523417094,\n",
       " 0.5246331135813284,\n",
       " 0.5953903248083103,\n",
       " 0.6478125716482486,\n",
       " 0.6882089978342096,\n",
       " 0.7202919326234376,\n",
       " 0.7463882857379718,\n",
       " 0.768030683315926]"
      ]
     },
     "execution_count": 276,
     "metadata": {},
     "output_type": "execute_result"
    }
   ],
   "source": [
    "[x/(x+e) for x in range(1,10)]"
   ]
  },
  {
   "cell_type": "code",
   "execution_count": 252,
   "metadata": {},
   "outputs": [
    {
     "data": {
      "text/plain": [
       "Text(0, 0.5, 'rev')"
      ]
     },
     "execution_count": 252,
     "metadata": {},
     "output_type": "execute_result"
    },
    {
     "data": {
      "image/png": "[encoded data removed]",
      "text/plain": [
       "<Figure size 432x288 with 1 Axes>"
      ]
     },
     "metadata": {
      "needs_background": "light"
     },
     "output_type": "display_data"
    }
   ],
   "source": [
    "odds = np.linspace(1,5,41)\n",
    "amt = 10\n",
    "w_probs = 1/odds\n",
    "l_probs = 1 - w_probs\n",
    "x_ret = (amt*odds*w_probs + -amt*l_probs) - amt\n",
    "\n",
    "plt.plot(odds,x_ret)\n",
    "plt.xlabel(\"odds\")\n",
    "plt.ylabel(\"rev\")"
   ]
  },
  {
   "cell_type": "code",
   "execution_count": 280,
   "metadata": {},
   "outputs": [
    {
     "data": {
      "text/plain": [
       "0.18181818181818182"
      ]
     },
     "execution_count": 280,
     "metadata": {},
     "output_type": "execute_result"
    }
   ],
   "source": [
    "1.2, 5.5\n",
    "\n",
    "1/5.5"
   ]
  },
  {
   "cell_type": "code",
   "execution_count": 283,
   "metadata": {},
   "outputs": [
    {
     "data": {
      "text/plain": [
       "[<matplotlib.lines.Line2D at 0x7fb950333ca0>]"
      ]
     },
     "execution_count": 283,
     "metadata": {},
     "output_type": "execute_result"
    },
    {
     "data": {
      "image/png": "[encoded data removed]",
      "text/plain": [
       "<Figure size 432x288 with 1 Axes>"
      ]
     },
     "metadata": {
      "needs_background": "light"
     },
     "output_type": "display_data"
    }
   ],
   "source": [
    "[(1/x,1/(1-x)) for x in np.arange(0.05,0.95,0.05)]\n",
    "plt.plot(\n",
    "    [1/x for x in np.arange(0.05,0.95,0.05)],\n",
    "    [1/(1-x) for x in np.arange(0.05,0.95,0.05)],\n",
    ")"
   ]
  },
  {
   "cell_type": "code",
   "execution_count": 288,
   "metadata": {},
   "outputs": [
    {
     "data": {
      "text/plain": [
       "1.0101010101010102"
      ]
     },
     "execution_count": 288,
     "metadata": {},
     "output_type": "execute_result"
    }
   ],
   "source": [
    "1/1.8 + 1/2.2"
   ]
  }
 ],
 "metadata": {
  "interpreter": {
   "hash": "9cea0b2ba1d4e863dfb586909f3baf8988d507bc1f42173fc816b8e84176b62f"
  },
  "kernelspec": {
   "display_name": "Python 3.8.10 ('base')",
   "language": "python",
   "name": "python3"
  },
  "language_info": {
   "codemirror_mode": {
    "name": "ipython",
    "version": 3
   },
   "file_extension": ".py",
   "mimetype": "text/x-python",
   "name": "python",
   "nbconvert_exporter": "python",
   "pygments_lexer": "ipython3",
   "version": "3.8.10"
  },
  "orig_nbformat": 4
 },
 "nbformat": 4,
 "nbformat_minor": 2
}
