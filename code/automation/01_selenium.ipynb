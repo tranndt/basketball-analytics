{
 "cells": [
  {
   "cell_type": "code",
   "execution_count": 7,
   "metadata": {},
   "outputs": [],
   "source": [
    "import sys\n",
    "sys.path.insert(0,\"../../\")\n",
    "\n",
    "from library import *\n",
    "import numpy as np\n",
    "import pandas as pd\n",
    "import matplotlib.pyplot as plt\n",
    "import seaborn as sns\n",
    "from selenium import *\n",
    "from selenium.webdriver.common.by import *"
   ]
  },
  {
   "cell_type": "code",
   "execution_count": 8,
   "metadata": {},
   "outputs": [
    {
     "name": "stderr",
     "output_type": "stream",
     "text": [
      "/var/folders/fr/37hzr_m96pl96wysz0n2sxd40000gn/T/ipykernel_21482/2769431189.py:2: DeprecationWarning: executable_path has been deprecated, please pass in a Service object\n",
      "  browser = webdriver.Edge(\"../../library/msedgedriver\")\n"
     ]
    }
   ],
   "source": [
    "web = \"https://www.basketball-reference.com/boxscores/202110190LAL.html\"\n",
    "browser = webdriver.Edge(\"../../library/msedgedriver\")\n",
    "browser.get(web)"
   ]
  },
  {
   "cell_type": "code",
   "execution_count": 21,
   "metadata": {},
   "outputs": [],
   "source": [
    "ele = browser.find_element(by=By.XPATH, value='//*[@id=\"dlink\"]')"
   ]
  },
  {
   "cell_type": "code",
   "execution_count": 23,
   "metadata": {},
   "outputs": [
    {
     "ename": "StaleElementReferenceException",
     "evalue": "Message: stale element reference: element is not attached to the page document\n  (Session info: MicrosoftEdge=101.0.1210.32)\nStacktrace:\n0   msedgedriver                        0x0000000102a1cb69 msedgedriver + 2648937\n1   msedgedriver                        0x0000000102a1cb43 msedgedriver + 2648899\n2   msedgedriver                        0x0000000102cc01c8 msedgedriver + 5415368\n3   msedgedriver                        0x0000000102cc3127 msedgedriver + 5427495\n4   msedgedriver                        0x0000000102cc2fc6 msedgedriver + 5427142\n5   msedgedriver                        0x0000000102cc3b5f msedgedriver + 5430111\n6   msedgedriver                        0x0000000102d25e43 msedgedriver + 5832259\n7   msedgedriver                        0x0000000102d13252 msedgedriver + 5755474\n8   msedgedriver                        0x0000000102d251fb msedgedriver + 5829115\n9   msedgedriver                        0x0000000102d13143 msedgedriver + 5755203\n10  msedgedriver                        0x0000000102ce9e9a msedgedriver + 5586586\n11  msedgedriver                        0x0000000102ceaec5 msedgedriver + 5590725\n12  msedgedriver                        0x000000010279d5ee msedgedriver + 30190\n13  msedgedriver                        0x000000010279cdcc msedgedriver + 28108\n14  msedgedriver                        0x0000000102fb6620 msedgedriver + 8521248\n15  msedgedriver                        0x0000000102965e84 msedgedriver + 1900164\n16  msedgedriver                        0x00000001029e89bb msedgedriver + 2435515\n17  msedgedriver                        0x00000001029e8908 msedgedriver + 2435336\n18  msedgedriver                        0x00000001028d1689 msedgedriver + 1291913\n19  msedgedriver                        0x00000001028c3465 msedgedriver + 1234021\n20  libsystem_pthread.dylib             0x00007ff816a354f4 _pthread_start + 125\n21  libsystem_pthread.dylib             0x00007ff816a3100f thread_start + 15\n",
     "output_type": "error",
     "traceback": [
      "\u001b[0;31m---------------------------------------------------------------------------\u001b[0m",
      "\u001b[0;31mStaleElementReferenceException\u001b[0m            Traceback (most recent call last)",
      "\u001b[0;32m/var/folders/fr/37hzr_m96pl96wysz0n2sxd40000gn/T/ipykernel_21482/1131425498.py\u001b[0m in \u001b[0;36m<module>\u001b[0;34m\u001b[0m\n\u001b[0;32m----> 1\u001b[0;31m \u001b[0mele\u001b[0m\u001b[0;34m.\u001b[0m\u001b[0mget_attribute\u001b[0m\u001b[0;34m(\u001b[0m\u001b[0;34m'tip'\u001b[0m\u001b[0;34m)\u001b[0m\u001b[0;34m\u001b[0m\u001b[0;34m\u001b[0m\u001b[0m\n\u001b[0m",
      "\u001b[0;32m/Applications/miniconda3/lib/python3.8/site-packages/selenium/webdriver/remote/webelement.py\u001b[0m in \u001b[0;36mget_attribute\u001b[0;34m(self, name)\u001b[0m\n\u001b[1;32m    153\u001b[0m         \"\"\"\n\u001b[1;32m    154\u001b[0m \u001b[0;34m\u001b[0m\u001b[0m\n\u001b[0;32m--> 155\u001b[0;31m         attribute_value = self.parent.execute_script(\n\u001b[0m\u001b[1;32m    156\u001b[0m             \u001b[0;34m\"return (%s).apply(null, arguments);\"\u001b[0m \u001b[0;34m%\u001b[0m \u001b[0mgetAttribute_js\u001b[0m\u001b[0;34m,\u001b[0m\u001b[0;34m\u001b[0m\u001b[0;34m\u001b[0m\u001b[0m\n\u001b[1;32m    157\u001b[0m             self, name)\n",
      "\u001b[0;32m/Applications/miniconda3/lib/python3.8/site-packages/selenium/webdriver/remote/webdriver.py\u001b[0m in \u001b[0;36mexecute_script\u001b[0;34m(self, script, *args)\u001b[0m\n\u001b[1;32m    877\u001b[0m         \u001b[0mcommand\u001b[0m \u001b[0;34m=\u001b[0m \u001b[0mCommand\u001b[0m\u001b[0;34m.\u001b[0m\u001b[0mW3C_EXECUTE_SCRIPT\u001b[0m\u001b[0;34m\u001b[0m\u001b[0;34m\u001b[0m\u001b[0m\n\u001b[1;32m    878\u001b[0m \u001b[0;34m\u001b[0m\u001b[0m\n\u001b[0;32m--> 879\u001b[0;31m         return self.execute(command, {\n\u001b[0m\u001b[1;32m    880\u001b[0m             \u001b[0;34m'script'\u001b[0m\u001b[0;34m:\u001b[0m \u001b[0mscript\u001b[0m\u001b[0;34m,\u001b[0m\u001b[0;34m\u001b[0m\u001b[0;34m\u001b[0m\u001b[0m\n\u001b[1;32m    881\u001b[0m             'args': converted_args})['value']\n",
      "\u001b[0;32m/Applications/miniconda3/lib/python3.8/site-packages/selenium/webdriver/remote/webdriver.py\u001b[0m in \u001b[0;36mexecute\u001b[0;34m(self, driver_command, params)\u001b[0m\n\u001b[1;32m    423\u001b[0m         \u001b[0mresponse\u001b[0m \u001b[0;34m=\u001b[0m \u001b[0mself\u001b[0m\u001b[0;34m.\u001b[0m\u001b[0mcommand_executor\u001b[0m\u001b[0;34m.\u001b[0m\u001b[0mexecute\u001b[0m\u001b[0;34m(\u001b[0m\u001b[0mdriver_command\u001b[0m\u001b[0;34m,\u001b[0m \u001b[0mparams\u001b[0m\u001b[0;34m)\u001b[0m\u001b[0;34m\u001b[0m\u001b[0;34m\u001b[0m\u001b[0m\n\u001b[1;32m    424\u001b[0m         \u001b[0;32mif\u001b[0m \u001b[0mresponse\u001b[0m\u001b[0;34m:\u001b[0m\u001b[0;34m\u001b[0m\u001b[0;34m\u001b[0m\u001b[0m\n\u001b[0;32m--> 425\u001b[0;31m             \u001b[0mself\u001b[0m\u001b[0;34m.\u001b[0m\u001b[0merror_handler\u001b[0m\u001b[0;34m.\u001b[0m\u001b[0mcheck_response\u001b[0m\u001b[0;34m(\u001b[0m\u001b[0mresponse\u001b[0m\u001b[0;34m)\u001b[0m\u001b[0;34m\u001b[0m\u001b[0;34m\u001b[0m\u001b[0m\n\u001b[0m\u001b[1;32m    426\u001b[0m             response['value'] = self._unwrap_value(\n\u001b[1;32m    427\u001b[0m                 response.get('value', None))\n",
      "\u001b[0;32m/Applications/miniconda3/lib/python3.8/site-packages/selenium/webdriver/remote/errorhandler.py\u001b[0m in \u001b[0;36mcheck_response\u001b[0;34m(self, response)\u001b[0m\n\u001b[1;32m    245\u001b[0m                 \u001b[0malert_text\u001b[0m \u001b[0;34m=\u001b[0m \u001b[0mvalue\u001b[0m\u001b[0;34m[\u001b[0m\u001b[0;34m'alert'\u001b[0m\u001b[0;34m]\u001b[0m\u001b[0;34m.\u001b[0m\u001b[0mget\u001b[0m\u001b[0;34m(\u001b[0m\u001b[0;34m'text'\u001b[0m\u001b[0;34m)\u001b[0m\u001b[0;34m\u001b[0m\u001b[0;34m\u001b[0m\u001b[0m\n\u001b[1;32m    246\u001b[0m             \u001b[0;32mraise\u001b[0m \u001b[0mexception_class\u001b[0m\u001b[0;34m(\u001b[0m\u001b[0mmessage\u001b[0m\u001b[0;34m,\u001b[0m \u001b[0mscreen\u001b[0m\u001b[0;34m,\u001b[0m \u001b[0mstacktrace\u001b[0m\u001b[0;34m,\u001b[0m \u001b[0malert_text\u001b[0m\u001b[0;34m)\u001b[0m  \u001b[0;31m# type: ignore[call-arg]  # mypy is not smart enough here\u001b[0m\u001b[0;34m\u001b[0m\u001b[0;34m\u001b[0m\u001b[0m\n\u001b[0;32m--> 247\u001b[0;31m         \u001b[0;32mraise\u001b[0m \u001b[0mexception_class\u001b[0m\u001b[0;34m(\u001b[0m\u001b[0mmessage\u001b[0m\u001b[0;34m,\u001b[0m \u001b[0mscreen\u001b[0m\u001b[0;34m,\u001b[0m \u001b[0mstacktrace\u001b[0m\u001b[0;34m)\u001b[0m\u001b[0;34m\u001b[0m\u001b[0;34m\u001b[0m\u001b[0m\n\u001b[0m\u001b[1;32m    248\u001b[0m \u001b[0;34m\u001b[0m\u001b[0m\n\u001b[1;32m    249\u001b[0m     \u001b[0;32mdef\u001b[0m \u001b[0m_value_or_default\u001b[0m\u001b[0;34m(\u001b[0m\u001b[0mself\u001b[0m\u001b[0;34m,\u001b[0m \u001b[0mobj\u001b[0m\u001b[0;34m:\u001b[0m \u001b[0mMapping\u001b[0m\u001b[0;34m[\u001b[0m\u001b[0m_KT\u001b[0m\u001b[0;34m,\u001b[0m \u001b[0m_VT\u001b[0m\u001b[0;34m]\u001b[0m\u001b[0;34m,\u001b[0m \u001b[0mkey\u001b[0m\u001b[0;34m:\u001b[0m \u001b[0m_KT\u001b[0m\u001b[0;34m,\u001b[0m \u001b[0mdefault\u001b[0m\u001b[0;34m:\u001b[0m \u001b[0m_VT\u001b[0m\u001b[0;34m)\u001b[0m \u001b[0;34m->\u001b[0m \u001b[0m_VT\u001b[0m\u001b[0;34m:\u001b[0m\u001b[0;34m\u001b[0m\u001b[0;34m\u001b[0m\u001b[0m\n",
      "\u001b[0;31mStaleElementReferenceException\u001b[0m: Message: stale element reference: element is not attached to the page document\n  (Session info: MicrosoftEdge=101.0.1210.32)\nStacktrace:\n0   msedgedriver                        0x0000000102a1cb69 msedgedriver + 2648937\n1   msedgedriver                        0x0000000102a1cb43 msedgedriver + 2648899\n2   msedgedriver                        0x0000000102cc01c8 msedgedriver + 5415368\n3   msedgedriver                        0x0000000102cc3127 msedgedriver + 5427495\n4   msedgedriver                        0x0000000102cc2fc6 msedgedriver + 5427142\n5   msedgedriver                        0x0000000102cc3b5f msedgedriver + 5430111\n6   msedgedriver                        0x0000000102d25e43 msedgedriver + 5832259\n7   msedgedriver                        0x0000000102d13252 msedgedriver + 5755474\n8   msedgedriver                        0x0000000102d251fb msedgedriver + 5829115\n9   msedgedriver                        0x0000000102d13143 msedgedriver + 5755203\n10  msedgedriver                        0x0000000102ce9e9a msedgedriver + 5586586\n11  msedgedriver                        0x0000000102ceaec5 msedgedriver + 5590725\n12  msedgedriver                        0x000000010279d5ee msedgedriver + 30190\n13  msedgedriver                        0x000000010279cdcc msedgedriver + 28108\n14  msedgedriver                        0x0000000102fb6620 msedgedriver + 8521248\n15  msedgedriver                        0x0000000102965e84 msedgedriver + 1900164\n16  msedgedriver                        0x00000001029e89bb msedgedriver + 2435515\n17  msedgedriver                        0x00000001029e8908 msedgedriver + 2435336\n18  msedgedriver                        0x00000001028d1689 msedgedriver + 1291913\n19  msedgedriver                        0x00000001028c3465 msedgedriver + 1234021\n20  libsystem_pthread.dylib             0x00007ff816a354f4 _pthread_start + 125\n21  libsystem_pthread.dylib             0x00007ff816a3100f thread_start + 15\n"
     ]
    }
   ],
   "source": [
    "ele.get_attribute('tip')"
   ]
  },
  {
   "cell_type": "code",
   "execution_count": null,
   "metadata": {},
   "outputs": [],
   "source": [
    "\"#box-GSW-game-basic_sh > div > ul > li.hasmore > div > ul > li:nth-child(4) > button\"\n",
    "# \"//*[@id=\"box-GSW-game-basic_sh\"]/div/ul/li[1]/div/ul/li[4]/button\""
   ]
  },
  {
   "cell_type": "code",
   "execution_count": null,
   "metadata": {},
   "outputs": [],
   "source": []
  }
 ],
 "metadata": {
  "interpreter": {
   "hash": "9cea0b2ba1d4e863dfb586909f3baf8988d507bc1f42173fc816b8e84176b62f"
  },
  "kernelspec": {
   "display_name": "Python 3.8.10 ('base')",
   "language": "python",
   "name": "python3"
  },
  "language_info": {
   "codemirror_mode": {
    "name": "ipython",
    "version": 3
   },
   "file_extension": ".py",
   "mimetype": "text/x-python",
   "name": "python",
   "nbconvert_exporter": "python",
   "pygments_lexer": "ipython3",
   "version": "3.8.10"
  },
  "orig_nbformat": 4
 },
 "nbformat": 4,
 "nbformat_minor": 2
}
