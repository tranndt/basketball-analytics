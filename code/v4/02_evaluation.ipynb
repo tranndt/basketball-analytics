{
 "cells": [
  {
   "cell_type": "code",
   "execution_count": 2,
   "metadata": {},
   "outputs": [],
   "source": [
    "import pandas as pd\n",
    "import numpy as np\n",
    "import matplotlib.pyplot as plt\n",
    "from sklearn.preprocessing import *\n",
    "from sklearn.tree import *\n",
    "from sklearn.ensemble import *\n",
    "from sklearn.svm import *\n",
    "from sklearn.linear_model import *\n",
    "from sklearn.model_selection import *\n",
    "from sklearn.metrics import *\n",
    "import pickle\n",
    "import gc\n",
    "from tqdm import tqdm\n",
    "from IPython.display import display_html\n",
    "from typing import Iterable\n",
    "import warnings\n",
    "from sklearn.exceptions import * \n",
    "\n",
    "warnings.filterwarnings(\"ignore\", category=ConvergenceWarning)\n",
    "warnings.filterwarnings(\"ignore\", category=UserWarning)"
   ]
  },
  {
   "attachments": {},
   "cell_type": "markdown",
   "metadata": {},
   "source": [
    "Data"
   ]
  },
  {
   "cell_type": "code",
   "execution_count": 3,
   "metadata": {},
   "outputs": [],
   "source": [
    "data_prior = pd.read_csv('./data/00-22/all_seasons_cumu_net_total_prior.csv').drop(columns='Unnamed: 0')\n",
    "data_true = pd.read_csv('./data/00-22/all_seasons_gamelog_facts.csv').drop(columns='Unnamed: 0')\n",
    "index = data_prior[data_prior['game_season'] > 10].dropna().sample(10000,random_state=1).index\n",
    "# index = data_prior[data_prior['game_season'] > 10].dropna().index\n",
    "columns = data_prior.columns[data_prior.columns.str.endswith('net')]\n",
    "\n",
    "X = data_prior.loc[index,columns]\n",
    "y = data_true.loc[index,'game_result']\n",
    "X_train,X_test,y_train,y_test = train_test_split(X,y,stratify=data_prior.loc[index,'month'],random_state=1)"
   ]
  },
  {
   "cell_type": "code",
   "execution_count": 4,
   "metadata": {},
   "outputs": [
    {
     "data": {
      "text/html": [
       "<div>\n",
       "<style scoped>\n",
       "    .dataframe tbody tr th:only-of-type {\n",
       "        vertical-align: middle;\n",
       "    }\n",
       "\n",
       "    .dataframe tbody tr th {\n",
       "        vertical-align: top;\n",
       "    }\n",
       "\n",
       "    .dataframe thead th {\n",
       "        text-align: right;\n",
       "    }\n",
       "</style>\n",
       "<table border=\"1\" class=\"dataframe\">\n",
       "  <thead>\n",
       "    <tr style=\"text-align: right;\">\n",
       "      <th></th>\n",
       "      <th>game_result_net</th>\n",
       "      <th>pts_net</th>\n",
       "      <th>opp_pts_net</th>\n",
       "      <th>fg_net</th>\n",
       "      <th>fga_net</th>\n",
       "      <th>fg_pct_net</th>\n",
       "      <th>fg3_net</th>\n",
       "      <th>fg3a_net</th>\n",
       "      <th>fg3_pct_net</th>\n",
       "      <th>ft_net</th>\n",
       "      <th>...</th>\n",
       "      <th>efg_pct_net</th>\n",
       "      <th>tov_pct_net</th>\n",
       "      <th>orb_pct_net</th>\n",
       "      <th>ft_rate_net</th>\n",
       "      <th>opp_efg_pct_net</th>\n",
       "      <th>opp_tov_pct_net</th>\n",
       "      <th>drb_pct_net</th>\n",
       "      <th>opp_ft_rate_net</th>\n",
       "      <th>net_pts_net</th>\n",
       "      <th>net_rtg_net</th>\n",
       "    </tr>\n",
       "  </thead>\n",
       "  <tbody>\n",
       "    <tr>\n",
       "      <th>11285</th>\n",
       "      <td>0.030769</td>\n",
       "      <td>3.661538</td>\n",
       "      <td>1.492308</td>\n",
       "      <td>1.738462</td>\n",
       "      <td>3.307692</td>\n",
       "      <td>0.004123</td>\n",
       "      <td>2.753846</td>\n",
       "      <td>6.169231</td>\n",
       "      <td>0.019231</td>\n",
       "      <td>-2.569231</td>\n",
       "      <td>...</td>\n",
       "      <td>0.018646</td>\n",
       "      <td>-2.349231</td>\n",
       "      <td>-4.401538</td>\n",
       "      <td>-0.040400</td>\n",
       "      <td>0.011338</td>\n",
       "      <td>-0.470769</td>\n",
       "      <td>1.756923</td>\n",
       "      <td>-0.063062</td>\n",
       "      <td>2.169231</td>\n",
       "      <td>2.563077</td>\n",
       "    </tr>\n",
       "    <tr>\n",
       "      <th>40130</th>\n",
       "      <td>-0.039216</td>\n",
       "      <td>3.705882</td>\n",
       "      <td>4.921569</td>\n",
       "      <td>0.529412</td>\n",
       "      <td>1.705882</td>\n",
       "      <td>-0.003451</td>\n",
       "      <td>1.745098</td>\n",
       "      <td>2.352941</td>\n",
       "      <td>0.070980</td>\n",
       "      <td>0.901961</td>\n",
       "      <td>...</td>\n",
       "      <td>0.005784</td>\n",
       "      <td>-0.700000</td>\n",
       "      <td>3.254902</td>\n",
       "      <td>0.006000</td>\n",
       "      <td>0.013510</td>\n",
       "      <td>-1.149020</td>\n",
       "      <td>-3.313725</td>\n",
       "      <td>0.022000</td>\n",
       "      <td>-1.215686</td>\n",
       "      <td>-1.354902</td>\n",
       "    </tr>\n",
       "    <tr>\n",
       "      <th>42805</th>\n",
       "      <td>-0.112072</td>\n",
       "      <td>-2.234775</td>\n",
       "      <td>2.155315</td>\n",
       "      <td>-0.418018</td>\n",
       "      <td>1.288108</td>\n",
       "      <td>-0.011710</td>\n",
       "      <td>1.046306</td>\n",
       "      <td>1.471171</td>\n",
       "      <td>0.026527</td>\n",
       "      <td>-2.445045</td>\n",
       "      <td>...</td>\n",
       "      <td>-0.006108</td>\n",
       "      <td>1.320919</td>\n",
       "      <td>1.519063</td>\n",
       "      <td>-0.035483</td>\n",
       "      <td>0.012416</td>\n",
       "      <td>-0.039874</td>\n",
       "      <td>1.023297</td>\n",
       "      <td>0.020154</td>\n",
       "      <td>-4.390090</td>\n",
       "      <td>-4.592865</td>\n",
       "    </tr>\n",
       "    <tr>\n",
       "      <th>12090</th>\n",
       "      <td>0.479640</td>\n",
       "      <td>6.736269</td>\n",
       "      <td>-5.585701</td>\n",
       "      <td>1.241004</td>\n",
       "      <td>0.996686</td>\n",
       "      <td>0.010694</td>\n",
       "      <td>0.750000</td>\n",
       "      <td>1.802083</td>\n",
       "      <td>0.015102</td>\n",
       "      <td>3.504261</td>\n",
       "      <td>...</td>\n",
       "      <td>0.015204</td>\n",
       "      <td>-1.881250</td>\n",
       "      <td>4.502036</td>\n",
       "      <td>0.039678</td>\n",
       "      <td>-0.035384</td>\n",
       "      <td>-1.673106</td>\n",
       "      <td>2.087169</td>\n",
       "      <td>-0.002315</td>\n",
       "      <td>12.321970</td>\n",
       "      <td>13.546780</td>\n",
       "    </tr>\n",
       "    <tr>\n",
       "      <th>54427</th>\n",
       "      <td>0.131670</td>\n",
       "      <td>7.348579</td>\n",
       "      <td>3.966736</td>\n",
       "      <td>1.765766</td>\n",
       "      <td>3.580042</td>\n",
       "      <td>-0.000622</td>\n",
       "      <td>2.115038</td>\n",
       "      <td>3.637561</td>\n",
       "      <td>0.054407</td>\n",
       "      <td>1.702010</td>\n",
       "      <td>...</td>\n",
       "      <td>0.010295</td>\n",
       "      <td>-2.682536</td>\n",
       "      <td>-5.212405</td>\n",
       "      <td>0.012788</td>\n",
       "      <td>0.013784</td>\n",
       "      <td>0.994387</td>\n",
       "      <td>-4.293001</td>\n",
       "      <td>-0.010658</td>\n",
       "      <td>3.381843</td>\n",
       "      <td>3.266528</td>\n",
       "    </tr>\n",
       "    <tr>\n",
       "      <th>...</th>\n",
       "      <td>...</td>\n",
       "      <td>...</td>\n",
       "      <td>...</td>\n",
       "      <td>...</td>\n",
       "      <td>...</td>\n",
       "      <td>...</td>\n",
       "      <td>...</td>\n",
       "      <td>...</td>\n",
       "      <td>...</td>\n",
       "      <td>...</td>\n",
       "      <td>...</td>\n",
       "      <td>...</td>\n",
       "      <td>...</td>\n",
       "      <td>...</td>\n",
       "      <td>...</td>\n",
       "      <td>...</td>\n",
       "      <td>...</td>\n",
       "      <td>...</td>\n",
       "      <td>...</td>\n",
       "      <td>...</td>\n",
       "      <td>...</td>\n",
       "    </tr>\n",
       "    <tr>\n",
       "      <th>51460</th>\n",
       "      <td>0.343750</td>\n",
       "      <td>8.812500</td>\n",
       "      <td>-3.500000</td>\n",
       "      <td>2.531250</td>\n",
       "      <td>4.312500</td>\n",
       "      <td>0.007094</td>\n",
       "      <td>4.000000</td>\n",
       "      <td>5.968750</td>\n",
       "      <td>0.040344</td>\n",
       "      <td>-0.250000</td>\n",
       "      <td>...</td>\n",
       "      <td>0.026250</td>\n",
       "      <td>-1.668750</td>\n",
       "      <td>7.309375</td>\n",
       "      <td>-0.014156</td>\n",
       "      <td>-0.034562</td>\n",
       "      <td>-2.825000</td>\n",
       "      <td>0.968750</td>\n",
       "      <td>-0.023031</td>\n",
       "      <td>12.312500</td>\n",
       "      <td>12.490625</td>\n",
       "    </tr>\n",
       "    <tr>\n",
       "      <th>40738</th>\n",
       "      <td>-0.240260</td>\n",
       "      <td>-5.465368</td>\n",
       "      <td>0.138528</td>\n",
       "      <td>-5.071429</td>\n",
       "      <td>-5.792208</td>\n",
       "      <td>-0.031455</td>\n",
       "      <td>3.965368</td>\n",
       "      <td>10.917749</td>\n",
       "      <td>0.029002</td>\n",
       "      <td>0.712121</td>\n",
       "      <td>...</td>\n",
       "      <td>-0.004855</td>\n",
       "      <td>2.368398</td>\n",
       "      <td>-4.180519</td>\n",
       "      <td>0.023253</td>\n",
       "      <td>-0.030019</td>\n",
       "      <td>-0.857792</td>\n",
       "      <td>-3.537662</td>\n",
       "      <td>0.056831</td>\n",
       "      <td>-5.603896</td>\n",
       "      <td>-6.050000</td>\n",
       "    </tr>\n",
       "    <tr>\n",
       "      <th>39254</th>\n",
       "      <td>0.009519</td>\n",
       "      <td>2.409572</td>\n",
       "      <td>3.093337</td>\n",
       "      <td>-0.910894</td>\n",
       "      <td>1.000000</td>\n",
       "      <td>-0.019380</td>\n",
       "      <td>4.664463</td>\n",
       "      <td>11.771285</td>\n",
       "      <td>0.019032</td>\n",
       "      <td>-0.433104</td>\n",
       "      <td>...</td>\n",
       "      <td>0.009855</td>\n",
       "      <td>-0.190349</td>\n",
       "      <td>6.137758</td>\n",
       "      <td>-0.010226</td>\n",
       "      <td>0.033569</td>\n",
       "      <td>-1.271840</td>\n",
       "      <td>3.124564</td>\n",
       "      <td>-0.032308</td>\n",
       "      <td>-0.683765</td>\n",
       "      <td>-0.836753</td>\n",
       "    </tr>\n",
       "    <tr>\n",
       "      <th>34428</th>\n",
       "      <td>-0.172414</td>\n",
       "      <td>-16.051724</td>\n",
       "      <td>-7.982759</td>\n",
       "      <td>-7.672414</td>\n",
       "      <td>-9.965517</td>\n",
       "      <td>-0.037431</td>\n",
       "      <td>-6.068966</td>\n",
       "      <td>-14.448276</td>\n",
       "      <td>-0.036638</td>\n",
       "      <td>5.362069</td>\n",
       "      <td>...</td>\n",
       "      <td>-0.069259</td>\n",
       "      <td>0.486207</td>\n",
       "      <td>4.305172</td>\n",
       "      <td>0.092483</td>\n",
       "      <td>0.012155</td>\n",
       "      <td>1.375862</td>\n",
       "      <td>0.700000</td>\n",
       "      <td>0.046845</td>\n",
       "      <td>-8.068966</td>\n",
       "      <td>-8.594828</td>\n",
       "    </tr>\n",
       "    <tr>\n",
       "      <th>49562</th>\n",
       "      <td>-0.051560</td>\n",
       "      <td>-2.499322</td>\n",
       "      <td>-0.936002</td>\n",
       "      <td>-0.817277</td>\n",
       "      <td>4.551560</td>\n",
       "      <td>-0.032787</td>\n",
       "      <td>-0.730891</td>\n",
       "      <td>-2.386929</td>\n",
       "      <td>0.005976</td>\n",
       "      <td>-0.133876</td>\n",
       "      <td>...</td>\n",
       "      <td>-0.040562</td>\n",
       "      <td>-1.880145</td>\n",
       "      <td>6.286590</td>\n",
       "      <td>-0.010340</td>\n",
       "      <td>0.001767</td>\n",
       "      <td>2.330100</td>\n",
       "      <td>-3.276617</td>\n",
       "      <td>0.022272</td>\n",
       "      <td>-1.563320</td>\n",
       "      <td>-1.588625</td>\n",
       "    </tr>\n",
       "  </tbody>\n",
       "</table>\n",
       "<p>10000 rows × 55 columns</p>\n",
       "</div>"
      ],
      "text/plain": [
       "       game_result_net    pts_net  opp_pts_net    fg_net   fga_net   \n",
       "11285         0.030769   3.661538     1.492308  1.738462  3.307692  \\\n",
       "40130        -0.039216   3.705882     4.921569  0.529412  1.705882   \n",
       "42805        -0.112072  -2.234775     2.155315 -0.418018  1.288108   \n",
       "12090         0.479640   6.736269    -5.585701  1.241004  0.996686   \n",
       "54427         0.131670   7.348579     3.966736  1.765766  3.580042   \n",
       "...                ...        ...          ...       ...       ...   \n",
       "51460         0.343750   8.812500    -3.500000  2.531250  4.312500   \n",
       "40738        -0.240260  -5.465368     0.138528 -5.071429 -5.792208   \n",
       "39254         0.009519   2.409572     3.093337 -0.910894  1.000000   \n",
       "34428        -0.172414 -16.051724    -7.982759 -7.672414 -9.965517   \n",
       "49562        -0.051560  -2.499322    -0.936002 -0.817277  4.551560   \n",
       "\n",
       "       fg_pct_net   fg3_net   fg3a_net  fg3_pct_net    ft_net  ...   \n",
       "11285    0.004123  2.753846   6.169231     0.019231 -2.569231  ...  \\\n",
       "40130   -0.003451  1.745098   2.352941     0.070980  0.901961  ...   \n",
       "42805   -0.011710  1.046306   1.471171     0.026527 -2.445045  ...   \n",
       "12090    0.010694  0.750000   1.802083     0.015102  3.504261  ...   \n",
       "54427   -0.000622  2.115038   3.637561     0.054407  1.702010  ...   \n",
       "...           ...       ...        ...          ...       ...  ...   \n",
       "51460    0.007094  4.000000   5.968750     0.040344 -0.250000  ...   \n",
       "40738   -0.031455  3.965368  10.917749     0.029002  0.712121  ...   \n",
       "39254   -0.019380  4.664463  11.771285     0.019032 -0.433104  ...   \n",
       "34428   -0.037431 -6.068966 -14.448276    -0.036638  5.362069  ...   \n",
       "49562   -0.032787 -0.730891  -2.386929     0.005976 -0.133876  ...   \n",
       "\n",
       "       efg_pct_net  tov_pct_net  orb_pct_net  ft_rate_net  opp_efg_pct_net   \n",
       "11285     0.018646    -2.349231    -4.401538    -0.040400         0.011338  \\\n",
       "40130     0.005784    -0.700000     3.254902     0.006000         0.013510   \n",
       "42805    -0.006108     1.320919     1.519063    -0.035483         0.012416   \n",
       "12090     0.015204    -1.881250     4.502036     0.039678        -0.035384   \n",
       "54427     0.010295    -2.682536    -5.212405     0.012788         0.013784   \n",
       "...            ...          ...          ...          ...              ...   \n",
       "51460     0.026250    -1.668750     7.309375    -0.014156        -0.034562   \n",
       "40738    -0.004855     2.368398    -4.180519     0.023253        -0.030019   \n",
       "39254     0.009855    -0.190349     6.137758    -0.010226         0.033569   \n",
       "34428    -0.069259     0.486207     4.305172     0.092483         0.012155   \n",
       "49562    -0.040562    -1.880145     6.286590    -0.010340         0.001767   \n",
       "\n",
       "       opp_tov_pct_net  drb_pct_net  opp_ft_rate_net  net_pts_net  net_rtg_net  \n",
       "11285        -0.470769     1.756923        -0.063062     2.169231     2.563077  \n",
       "40130        -1.149020    -3.313725         0.022000    -1.215686    -1.354902  \n",
       "42805        -0.039874     1.023297         0.020154    -4.390090    -4.592865  \n",
       "12090        -1.673106     2.087169        -0.002315    12.321970    13.546780  \n",
       "54427         0.994387    -4.293001        -0.010658     3.381843     3.266528  \n",
       "...                ...          ...              ...          ...          ...  \n",
       "51460        -2.825000     0.968750        -0.023031    12.312500    12.490625  \n",
       "40738        -0.857792    -3.537662         0.056831    -5.603896    -6.050000  \n",
       "39254        -1.271840     3.124564        -0.032308    -0.683765    -0.836753  \n",
       "34428         1.375862     0.700000         0.046845    -8.068966    -8.594828  \n",
       "49562         2.330100    -3.276617         0.022272    -1.563320    -1.588625  \n",
       "\n",
       "[10000 rows x 55 columns]"
      ]
     },
     "execution_count": 4,
     "metadata": {},
     "output_type": "execute_result"
    }
   ],
   "source": [
    "X"
   ]
  },
  {
   "cell_type": "code",
   "execution_count": 5,
   "metadata": {},
   "outputs": [
    {
     "data": {
      "text/plain": [
       "11285    1\n",
       "40130    0\n",
       "42805    0\n",
       "12090    1\n",
       "54427    1\n",
       "        ..\n",
       "51460    0\n",
       "40738    0\n",
       "39254    0\n",
       "34428    0\n",
       "49562    1\n",
       "Name: game_result, Length: 10000, dtype: int64"
      ]
     },
     "execution_count": 5,
     "metadata": {},
     "output_type": "execute_result"
    }
   ],
   "source": [
    "y"
   ]
  },
  {
   "cell_type": "code",
   "execution_count": 187,
   "metadata": {},
   "outputs": [
    {
     "name": "stderr",
     "output_type": "stream",
     "text": [
      "LogisticRegression: 100%|██████████| 4/4 [00:05<00:00,  1.38s/it]    \n"
     ]
    },
    {
     "data": {
      "text/plain": [
       "0.00     628\n",
       "0.25     146\n",
       "0.50     113\n",
       "0.75     170\n",
       "1.00    1443\n",
       "Name: count, dtype: int64"
      ]
     },
     "execution_count": 187,
     "metadata": {},
     "output_type": "execute_result"
    }
   ],
   "source": [
    "aslist = lambda x: x if isinstance(x,Iterable) and not isinstance(x,str) else [x]\n",
    "\n",
    "class Trainer:\n",
    "    def __init__(self,models=None) -> None:\n",
    "        self.models = models if models is not None else [RandomForestClassifier(),RidgeClassifier(),SVC(),LogisticRegression()]\n",
    "\n",
    "    def fit(self,X,y):\n",
    "        models = tqdm(self.models)\n",
    "        for model in models:\n",
    "            models.set_description(desc=f\"{model.__class__.__name__}\")\n",
    "            model.fit(X,y)\n",
    "        return self\n",
    "\n",
    "    def predict(self,X):\n",
    "        self.predictions = []\n",
    "        for model in self.models:\n",
    "            self.predictions.append(model.predict(X))\n",
    "        self.predictions = np.array(self.predictions)\n",
    "        return self.predictions \n",
    "    \n",
    "    def score(self,X,y,scorers=f1_score,*args):\n",
    "        self.scores = {}\n",
    "        self.predict(X)\n",
    "        for i,scorer in enumerate(aslist(scorers)):\n",
    "            if scorer.__name__ not in self.scores.keys():\n",
    "                self.scores[scorer.__name__] = []\n",
    "            if len(args) == len(aslist(scorers)):\n",
    "                kwargs = args[i]\n",
    "            else:\n",
    "                kwargs = {}\n",
    "            for y_pred in self.predictions:\n",
    "                self.scores[scorer.__name__].append(scorer(y,y_pred,**kwargs))\n",
    "        return self.scores\n",
    "\n",
    "    def accuracy_score(self,y_true,y_preds,axis=0):\n",
    "        y_correct = y_preds == np.tile(y_true,(y_preds.shape[0],1))\n",
    "        return y_correct.mean(axis)\n",
    "    \n",
    "    def mae_score(self,y_true,y_preds,axis=0):\n",
    "        y_error = y_preds - np.tile(y_true,(y_preds.shape[0],1))\n",
    "        return np.abs(y_error).mean(axis)\n",
    "    \n",
    "trainer = Trainer(\n",
    "    models = [RandomForestClassifier(),\n",
    "              RidgeClassifier(),\n",
    "              SVC(),\n",
    "              LogisticRegression()]\n",
    ")\n",
    "trainer.fit(X_train,y_train).score(X_test,y_test,[f1_score])\n",
    "# classification_acc = trainer.accuracy_score(y_test,trainer.predictions,axis=0)\n",
    "# pd.value_counts(classification_acc).sort_index()"
   ]
  },
  {
   "attachments": {},
   "cell_type": "markdown",
   "metadata": {},
   "source": [
    "Detect Outlier Cases"
   ]
  },
  {
   "cell_type": "code",
   "execution_count": 236,
   "metadata": {},
   "outputs": [],
   "source": [
    "class OutlierDectection(Trainer):\n",
    "    def __init__(self, models, classification_model = Trainer(), threshold=0.5, kfold = KFold(n_splits=3), is_classification = True) -> None:\n",
    "        super().__init__(models)\n",
    "        self.threshold = threshold\n",
    "        self.kfold = kfold\n",
    "        self.classification_model = classification_model\n",
    "        self.is_classification = is_classification\n",
    "\n",
    "    def detect_outliers(self, X, y):\n",
    "        self.model_predictions = None\n",
    "        for train_index, val_index in self.kfold.split(X):\n",
    "            X_train, y_train = np.array(X)[train_index], np.array(y)[train_index]\n",
    "            X_val, y_val = np.array(X)[val_index], np.array(y)[val_index]\n",
    "            super().fit(X_train, y_train)\n",
    "            if self.model_predictions is None:\n",
    "                self.model_predictions = super().predict(X_val)\n",
    "            else:\n",
    "                self.model_predictions = np.concatenate([self.model_predictions,super().predict(X_val)],axis=1)\n",
    "        if self.is_classification:\n",
    "            self.predictions_accuracy = self.accuracy_score(y,self.model_predictions)\n",
    "            self.outliers = (self.predictions_accuracy < self.threshold).astype(int)\n",
    "        else:\n",
    "            self.predictions_error = self.mae_score(y,self.model_predictions)\n",
    "            self.outliers = (self.predictions_error > self.threshold).astype(int)\n",
    "        return self.outliers\n",
    "    \n",
    "    def fit(self,X,y):\n",
    "        self.detect_outliers(X,y)\n",
    "        self.classification_model.fit(X,self.outliers)\n",
    "        return self\n",
    "\n",
    "    def predict(self, X):\n",
    "        self.classification_model.predict(X)\n",
    "        self.predictions = (self.classification_model.predictions.mean(0) > 0).astype(int)\n",
    "        return self.predictions\n",
    "\n",
    "outlier = OutlierDectection(\n",
    "    models = [RandomForestClassifier(),\n",
    "              RidgeClassifier(),\n",
    "              SVC(),\n",
    "              LogisticRegression()],\n",
    "    threshold = 1,\n",
    "    is_classification = True\n",
    ")"
   ]
  },
  {
   "cell_type": "code",
   "execution_count": 237,
   "metadata": {},
   "outputs": [
    {
     "name": "stderr",
     "output_type": "stream",
     "text": [
      "LogisticRegression: 100%|██████████| 4/4 [00:03<00:00,  1.26it/s]    \n",
      "LogisticRegression: 100%|██████████| 4/4 [00:03<00:00,  1.24it/s]    \n",
      "LogisticRegression: 100%|██████████| 4/4 [00:03<00:00,  1.32it/s]    \n",
      "LogisticRegression: 100%|██████████| 4/4 [00:05<00:00,  1.33s/it]    \n"
     ]
    },
    {
     "name": "stdout",
     "output_type": "stream",
     "text": [
      "0    4222\n",
      "1    3278\n",
      "Name: count, dtype: int64\n",
      "0    1164\n",
      "1    1336\n",
      "Name: count, dtype: int64\n"
     ]
    }
   ],
   "source": [
    "outlier.fit(X_train,y_train).predict(X_test)\n",
    "print(pd.value_counts(outlier.outliers).sort_index())\n",
    "print(pd.value_counts(outlier.predictions).sort_index())"
   ]
  },
  {
   "cell_type": "code",
   "execution_count": 238,
   "metadata": {},
   "outputs": [
    {
     "name": "stderr",
     "output_type": "stream",
     "text": [
      "LogisticRegression: 100%|██████████| 4/4 [00:05<00:00,  1.30s/it]    \n"
     ]
    },
    {
     "data": {
      "text/plain": [
       "{'accuracy_score': [0.6592, 0.6696, 0.6608, 0.6716]}"
      ]
     },
     "execution_count": 238,
     "metadata": {},
     "output_type": "execute_result"
    }
   ],
   "source": [
    "trainer = Trainer(\n",
    "    models = [RandomForestClassifier(),\n",
    "              RidgeClassifier(),\n",
    "              SVC(),\n",
    "              LogisticRegression()]\n",
    ")\n",
    "\n",
    "trainer.fit(X_train,y_train).score(X_test,y_test,[accuracy_score])"
   ]
  },
  {
   "cell_type": "code",
   "execution_count": 239,
   "metadata": {},
   "outputs": [
    {
     "data": {
      "text/plain": [
       "{'accuracy_score': [0.5988023952095808,\n",
       "  0.6100299401197605,\n",
       "  0.5950598802395209,\n",
       "  0.6137724550898204]}"
      ]
     },
     "execution_count": 239,
     "metadata": {},
     "output_type": "execute_result"
    }
   ],
   "source": [
    "trainer.score(X_test[outlier.predictions == 1],y_test[outlier.predictions == 1],[accuracy_score])"
   ]
  },
  {
   "cell_type": "code",
   "execution_count": 240,
   "metadata": {},
   "outputs": [
    {
     "data": {
      "text/plain": [
       "{'accuracy_score': [0.7285223367697594,\n",
       "  0.7379725085910653,\n",
       "  0.7362542955326461,\n",
       "  0.7379725085910653]}"
      ]
     },
     "execution_count": 240,
     "metadata": {},
     "output_type": "execute_result"
    }
   ],
   "source": [
    "trainer.score(X_test[outlier.predictions == 0],y_test[outlier.predictions == 0],[accuracy_score])"
   ]
  },
  {
   "attachments": {},
   "cell_type": "markdown",
   "metadata": {},
   "source": []
  },
  {
   "attachments": {},
   "cell_type": "markdown",
   "metadata": {},
   "source": [
    "Regression"
   ]
  },
  {
   "cell_type": "code",
   "execution_count": 215,
   "metadata": {},
   "outputs": [],
   "source": [
    "data_prior = pd.read_csv('./data/00-22/all_seasons_cumu_net_total_prior.csv').drop(columns='Unnamed: 0')\n",
    "data_true = pd.read_csv('./data/00-22/all_seasons_gamelog_facts.csv').drop(columns='Unnamed: 0')\n",
    "index = data_prior[data_prior['game_season'] > 10].dropna().sample(10000,random_state=1).index\n",
    "# index = data_prior[data_prior['game_season'] > 10].dropna().index\n",
    "columns = data_prior.columns[data_prior.columns.str.endswith('net')]\n",
    "\n",
    "X = data_prior.loc[index,columns]\n",
    "y = data_true.loc[index,'net_pts']\n",
    "# clamp y between [-20,20]\n",
    "y[y < -20] = -20\n",
    "y[y > 20] = 20\n",
    "X_train,X_test,y_train,y_test = train_test_split(X,y,stratify=data_prior.loc[index,'month'],random_state=1)"
   ]
  },
  {
   "cell_type": "code",
   "execution_count": 216,
   "metadata": {},
   "outputs": [
    {
     "name": "stderr",
     "output_type": "stream",
     "text": [
      "LinearRegression: 100%|██████████| 4/4 [00:15<00:00,  4.00s/it]     \n",
      "LinearRegression: 100%|██████████| 4/4 [00:15<00:00,  3.96s/it]     \n",
      "LinearRegression: 100%|██████████| 4/4 [00:17<00:00,  4.27s/it]     \n",
      "LogisticRegression: 100%|██████████| 4/4 [00:07<00:00,  1.82s/it]    \n"
     ]
    },
    {
     "name": "stdout",
     "output_type": "stream",
     "text": [
      "0    4466\n",
      "1    3034\n",
      "Name: count, dtype: int64\n",
      "0    2187\n",
      "1     313\n",
      "Name: count, dtype: int64\n"
     ]
    }
   ],
   "source": [
    "outlier = OutlierDectection(\n",
    "    models = [RandomForestRegressor(),\n",
    "              Ridge(),\n",
    "              SVR(),\n",
    "              LinearRegression()],\n",
    "    threshold = 10,\n",
    "    is_classification=False\n",
    ")\n",
    "\n",
    "outlier.fit(X_train,y_train).predict(X_test)\n",
    "print(pd.value_counts(outlier.outliers).sort_index())\n",
    "print(pd.value_counts(outlier.predictions).sort_index())"
   ]
  },
  {
   "cell_type": "code",
   "execution_count": 217,
   "metadata": {},
   "outputs": [
    {
     "data": {
      "text/plain": [
       "8.182197230392264"
      ]
     },
     "execution_count": 217,
     "metadata": {},
     "output_type": "execute_result"
    }
   ],
   "source": [
    "np.median(outlier.predictions_error)"
   ]
  },
  {
   "cell_type": "code",
   "execution_count": 218,
   "metadata": {},
   "outputs": [
    {
     "name": "stderr",
     "output_type": "stream",
     "text": [
      "LinearRegression: 100%|██████████| 4/4 [00:25<00:00,  6.34s/it]     \n"
     ]
    },
    {
     "name": "stdout",
     "output_type": "stream",
     "text": [
      "{'r2_score': [0.14453487711927904, 0.18209516002545756, 0.16673027282630548, 0.18420438386721505], 'mean_absolute_error': [8.971092, 8.831923199249784, 8.807930922758306, 8.820108039332474]}\n",
      "{'r2_score': [0.0072010316214873304, 0.10918470047867046, 0.06394246267507697, 0.11431023164433685], 'mean_absolute_error': [9.207987220447286, 8.718308596061618, 8.871092814835796, 8.68175604130981]}\n",
      "{'r2_score': [0.16115972403985268, 0.19050075491027174, 0.17895004910939138, 0.19222555820422016], 'mean_absolute_error': [8.937187928669413, 8.84818354255015, 8.798891292113472, 8.839908759671339]}\n"
     ]
    }
   ],
   "source": [
    "trainer = Trainer(\n",
    "    models = [RandomForestRegressor(),\n",
    "              Ridge(),\n",
    "              SVR(),\n",
    "              LinearRegression()]\n",
    ")\n",
    "\n",
    "trainer.fit(X_train,y_train)\n",
    "print(trainer.score(X_test,y_test,[r2_score,mean_absolute_error]))\n",
    "print(trainer.score(X_test[outlier.predictions == 1],y_test[outlier.predictions == 1],[r2_score,mean_absolute_error]))  \n",
    "print(trainer.score(X_test[outlier.predictions == 0],y_test[outlier.predictions == 0],[r2_score,mean_absolute_error]))"
   ]
  },
  {
   "cell_type": "code",
   "execution_count": 225,
   "metadata": {},
   "outputs": [
    {
     "data": {
      "text/plain": [
       "array([ 1.67745451,  0.31913676,  0.31913676, ...,  1.67745451,\n",
       "       -0.6147067 ,  0.74361105])"
      ]
     },
     "execution_count": 225,
     "metadata": {},
     "output_type": "execute_result"
    }
   ],
   "source": [
    "y_train_trf = StandardScaler().fit_transform(y_train.values.reshape(-1,1)).flatten()\n",
    "y_test_trf = StandardScaler().fit_transform(y_test.values.reshape(-1,1)).flatten()\n",
    "y_train_trf"
   ]
  },
  {
   "cell_type": "code",
   "execution_count": 226,
   "metadata": {},
   "outputs": [
    {
     "name": "stderr",
     "output_type": "stream",
     "text": [
      "LinearRegression: 100%|██████████| 4/4 [00:14<00:00,  3.74s/it]     \n",
      "LinearRegression: 100%|██████████| 4/4 [00:15<00:00,  3.83s/it]     \n",
      "LinearRegression: 100%|██████████| 4/4 [00:15<00:00,  3.77s/it]     \n",
      "LogisticRegression: 100%|██████████| 4/4 [00:06<00:00,  1.61s/it]    \n"
     ]
    },
    {
     "name": "stdout",
     "output_type": "stream",
     "text": [
      "0    2772\n",
      "1    4728\n",
      "Name: count, dtype: int64\n",
      "1    2500\n",
      "Name: count, dtype: int64\n"
     ]
    }
   ],
   "source": [
    "outlier = OutlierDectection(\n",
    "    models = [RandomForestRegressor(),\n",
    "              Ridge(),\n",
    "              SVR(),\n",
    "              LinearRegression()],\n",
    "    threshold = 0.5,\n",
    "    is_classification=False\n",
    ")\n",
    "\n",
    "outlier.fit(X_train,y_train_trf).predict(X_test)\n",
    "print(pd.value_counts(outlier.outliers).sort_index())\n",
    "print(pd.value_counts(outlier.predictions).sort_index())"
   ]
  },
  {
   "cell_type": "code",
   "execution_count": null,
   "metadata": {},
   "outputs": [],
   "source": []
  },
  {
   "cell_type": "code",
   "execution_count": 228,
   "metadata": {},
   "outputs": [
    {
     "name": "stderr",
     "output_type": "stream",
     "text": [
      "LinearRegression: 100%|██████████| 4/4 [00:25<00:00,  6.36s/it]     \n"
     ]
    },
    {
     "name": "stdout",
     "output_type": "stream",
     "text": [
      "{'r2_score': [0.15398809874807373, 0.18339591794511367, 0.12352823096493881, 0.18551920925667875], 'mean_absolute_error': [0.7599404288077121, 0.7521651885117197, 0.7697820282330942, 0.7512925815227507]}\n",
      "{'r2_score': [0.15398809874807373, 0.18339591794511367, 0.12352823096493881, 0.18551920925667875], 'mean_absolute_error': [0.7599404288077121, 0.7521651885117197, 0.7697820282330942, 0.7512925815227507]}\n"
     ]
    }
   ],
   "source": [
    "trainer = Trainer(\n",
    "    models = [RandomForestRegressor(),\n",
    "              Ridge(),\n",
    "              SVR(),\n",
    "              LinearRegression()]\n",
    ")\n",
    "\n",
    "trainer.fit(X_train,y_train_trf)\n",
    "print(trainer.score(X_test,y_test_trf,[r2_score,mean_absolute_error]))\n",
    "print(trainer.score(X_test[outlier.predictions == 1],y_test_trf[outlier.predictions == 1],[r2_score,mean_absolute_error]))  \n",
    "# print(trainer.score(X_test[outlier.predictions == 0],y_test[outlier.predictions == 0],[r2_score,mean_absolute_error]))"
   ]
  },
  {
   "cell_type": "code",
   "execution_count": 230,
   "metadata": {},
   "outputs": [
    {
     "data": {
      "text/plain": [
       "<Axes: ylabel='Frequency'>"
      ]
     },
     "execution_count": 230,
     "metadata": {},
     "output_type": "execute_result"
    },
    {
     "data": {
      "image/png": "[encoded data removed]",
      "text/plain": [
       "<Figure size 640x480 with 1 Axes>"
      ]
     },
     "metadata": {},
     "output_type": "display_data"
    }
   ],
   "source": [
    "y.plot.hist()"
   ]
  }
 ],
 "metadata": {
  "kernelspec": {
   "display_name": ".venv",
   "language": "python",
   "name": "python3"
  },
  "language_info": {
   "codemirror_mode": {
    "name": "ipython",
    "version": 3
   },
   "file_extension": ".py",
   "mimetype": "text/x-python",
   "name": "python",
   "nbconvert_exporter": "python",
   "pygments_lexer": "ipython3",
   "version": "3.9.13"
  },
  "orig_nbformat": 4
 },
 "nbformat": 4,
 "nbformat_minor": 2
}
