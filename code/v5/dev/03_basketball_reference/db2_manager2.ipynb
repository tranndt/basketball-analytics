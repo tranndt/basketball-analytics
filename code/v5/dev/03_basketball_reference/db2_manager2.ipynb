{
 "cells": [
  {
   "cell_type": "code",
   "execution_count": 1,
   "metadata": {},
   "outputs": [],
   "source": [
    "from bs4 import *\n",
    "import time\n",
    "import requests\n",
    "import re\n",
    "import numpy as np\n",
    "import pandas as pd\n",
    "import json\n",
    "import pickle\n",
    "from pathlib import Path\n",
    "import sys\n",
    "import os\n",
    "sys.path.insert(0,'../../')\n",
    "import scripts.base\n",
    "import inspect\n",
    "import difflib\n",
    "import warnings\n",
    "from db_manager import *\n",
    "from tqdm import tqdm,trange\n",
    "\n",
    "from datetime import datetime\n",
    "from collections import defaultdict\n"
   ]
  },
  {
   "cell_type": "code",
   "execution_count": 2,
   "metadata": {},
   "outputs": [],
   "source": [
    "local_host = '/Volumes/Seagate Portable Disk/University of Manitoba/Data Science/Datasets/basketball-analytics/'\n",
    "db = BaseDatabaseManager(local_host)\n",
    "# db.info()"
   ]
  },
  {
   "cell_type": "code",
   "execution_count": 10,
   "metadata": {},
   "outputs": [
    {
     "name": "stdout",
     "output_type": "stream",
     "text": [
      "PlayerIndexHTML('/players/o/olynyke01.html', content_type=online)\n"
     ]
    }
   ],
   "source": [
    "a = PageHTML('/players/o/olynyke01.html',content_only=False).auto_instance()\n",
    "a.fetch()\n",
    "print(str(a))\n",
    "# a.render()"
   ]
  },
  {
   "cell_type": "code",
   "execution_count": 11,
   "metadata": {},
   "outputs": [
    {
     "name": "stdout",
     "output_type": "stream",
     "text": [
      "BoxscoresHTML('/boxscores/202304280GSW.html', content_type=online)\n"
     ]
    }
   ],
   "source": [
    "href = 'https://www.basketball-reference.com/boxscores/202304280GSW.html'\n",
    "a = PageHTML(href,content_only=True).auto_instance()\n",
    "a.fetch()\n",
    "print(str(a))\n",
    "# a.render()"
   ]
  },
  {
   "cell_type": "code",
   "execution_count": 12,
   "metadata": {},
   "outputs": [
    {
     "data": {
      "text/plain": [
       "['/boxscores/202304280GSW.html',\n",
       " '/boxscores/pbp/202304280GSW.html',\n",
       " '/boxscores/shot-chart/202304280GSW.html',\n",
       " '/boxscores/plus-minus/202304280GSW.html']"
      ]
     },
     "execution_count": 12,
     "metadata": {},
     "output_type": "execute_result"
    }
   ],
   "source": [
    "a.sub_boxscores_hrefs()"
   ]
  },
  {
   "cell_type": "code",
   "execution_count": 13,
   "metadata": {},
   "outputs": [
    {
     "data": {
      "text/plain": [
       "\"BoxscoresPbpHTML('/boxscores/pbp/202304280GSW.html', content_type=online)\""
      ]
     },
     "execution_count": 13,
     "metadata": {},
     "output_type": "execute_result"
    }
   ],
   "source": [
    "b = PageHTML('/boxscores/pbp/202304280GSW.html').auto_instance()\n",
    "b.fetch()\n",
    "# b.render()\n",
    "str(b)"
   ]
  },
  {
   "cell_type": "code",
   "execution_count": 15,
   "metadata": {},
   "outputs": [
    {
     "data": {
      "text/plain": [
       "['/boxscores/202304280GSW.html',\n",
       " '/boxscores/pbp/202304280GSW.html',\n",
       " '/boxscores/shot-chart/202304280GSW.html',\n",
       " '/boxscores/plus-minus/202304280GSW.html']"
      ]
     },
     "execution_count": 15,
     "metadata": {},
     "output_type": "execute_result"
    }
   ],
   "source": [
    "b.sub_boxscores_hrefs()"
   ]
  },
  {
   "cell_type": "code",
   "execution_count": null,
   "metadata": {},
   "outputs": [],
   "source": []
  },
  {
   "cell_type": "code",
   "execution_count": 1,
   "metadata": {},
   "outputs": [
    {
     "ename": "NameError",
     "evalue": "name 'BaseDatabaseManager' is not defined",
     "output_type": "error",
     "traceback": [
      "\u001b[0;31m---------------------------------------------------------------------------\u001b[0m",
      "\u001b[0;31mNameError\u001b[0m                                 Traceback (most recent call last)",
      "Cell \u001b[0;32mIn[1], line 1\u001b[0m\n\u001b[0;32m----> 1\u001b[0m \u001b[39mclass\u001b[39;00m \u001b[39mDatabaseManager\u001b[39;00m(BaseDatabaseManager):\n\u001b[1;32m      2\u001b[0m     \u001b[39m# Contains functionality that syncs specific folders\u001b[39;00m\n\u001b[1;32m      3\u001b[0m     \u001b[39mdef\u001b[39;00m \u001b[39msync_all_seasons_index\u001b[39m(\u001b[39mself\u001b[39m,downstream\u001b[39m=\u001b[39m\u001b[39mFalse\u001b[39;00m,pull\u001b[39m=\u001b[39m\u001b[39mTrue\u001b[39;00m,warn\u001b[39m=\u001b[39m\u001b[39mFalse\u001b[39;00m):\n\u001b[1;32m      4\u001b[0m         \u001b[39m# Check for seasons index file, retrieve it if necessary\u001b[39;00m\n\u001b[1;32m      5\u001b[0m         sync_results            \u001b[39m=\u001b[39m SyncResult()\n",
      "\u001b[0;31mNameError\u001b[0m: name 'BaseDatabaseManager' is not defined"
     ]
    }
   ],
   "source": [
    "class DatabaseManager(BaseDatabaseManager):\n",
    "    # Contains functionality that syncs specific folders\n",
    "    def sync_all_seasons_index(self,downstream=False,pull=True,warn=False):\n",
    "        # Check for seasons index file, retrieve it if necessary\n",
    "        sync_results            = SyncResult()\n",
    "        all_seasons_index_page  = AllSeasonsIndexHTML()\n",
    "        sync_status             = self.sync(all_seasons_index_page,pull=pull,warn=warn) # sync main index page\n",
    "        sync_results[sync_status].extend(all_seasons_index_page.href)\n",
    "        if downstream:\n",
    "            for season_href in all_seasons_index_page.seasons_hrefs():\n",
    "                season_sync_results = self.sync_season_index(season_href,downstream=downstream,pull=pull,warn=warn) # sync each season index page\n",
    "                sync_results.update(season_sync_results)\n",
    "        return sync_results\n",
    "    \n",
    "    def sync_season_index(self,href,downstream=False,pull=True,warn=False):\n",
    "        sync_results            = SyncResult()\n",
    "        season_index_page       = SeasonIndexHTML(href)\n",
    "        sync_status             = self.sync(season_index_page.href,pull=pull,warn=warn) # sync season_index_page\n",
    "        sync_results[sync_status].extend(season_index_page.href)\n",
    "\n",
    "        if downstream:\n",
    "            # sync season schedule\n",
    "            if season_index_page.schedule_href():\n",
    "                season_schedule_href            = season_index_page.schedule_href()\n",
    "                season_schedule_sync_results    = self.sync_season_schedule(season_schedule_href,downstream=downstream,pull=pull,warn=warn) # sync season_schedule_page \n",
    "                sync_results.update(season_schedule_sync_results)\n",
    "            # sync other pages if necessary\n",
    "\n",
    "        return sync_results\n",
    "    \n",
    "    def sync_season_schedule(self,href,downstream=False,pull=True,warn=False):\n",
    "        sync_results            = SyncResult()\n",
    "        season_schedule_page    = SeasonScheduleHTML(href)\n",
    "        sync_status             = self.sync(season_schedule_page.href,pull=pull,warn=warn) # sync season_schedule_page \n",
    "        sync_results[sync_status].extend(season_schedule_page.href)\n",
    "\n",
    "        # sync monthly schedule if available \n",
    "        if downstream:\n",
    "            if season_schedule_page.monthly_schedule_hrefs():\n",
    "                for monthly_schedule_href in season_schedule_page.monthly_schedule_hrefs():\n",
    "                    monthly_schedule_page   = SeasonScheduleHTML(monthly_schedule_href)\n",
    "                    sync_status             = self.sync(monthly_schedule_page,pull=pull,warn=warn) # sync season_schedule_page \n",
    "                    sync_results[sync_status].extend(monthly_schedule_page.href)\n",
    "\n",
    "        return sync_results\n",
    "\n",
    "    def sync_boxscores():\n",
    "        pass\n",
    "\n",
    "    pass\n",
    "\n",
    "\n",
    "db_path = './demo'\n",
    "bbref_db = DatabaseManager(db_path)\n",
    "bbref_db.browse()\n",
    "\n"
   ]
  },
  {
   "cell_type": "code",
   "execution_count": null,
   "metadata": {},
   "outputs": [],
   "source": []
  }
 ],
 "metadata": {
  "kernelspec": {
   "display_name": ".venv",
   "language": "python",
   "name": "python3"
  },
  "language_info": {
   "codemirror_mode": {
    "name": "ipython",
    "version": 3
   },
   "file_extension": ".py",
   "mimetype": "text/x-python",
   "name": "python",
   "nbconvert_exporter": "python",
   "pygments_lexer": "ipython3",
   "version": "3.9.13"
  },
  "orig_nbformat": 4
 },
 "nbformat": 4,
 "nbformat_minor": 2
}
