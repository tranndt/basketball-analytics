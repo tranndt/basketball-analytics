{
 "cells": [
  {
   "cell_type": "code",
   "execution_count": 1,
   "metadata": {},
   "outputs": [],
   "source": [
    "import sys\n",
    "sys.path.insert(0,\"../../\")\n",
    "\n",
    "import re\n",
    "import numpy as np\n",
    "import pandas as pd\n",
    "import matplotlib.pyplot as plt\n",
    "import seaborn as sns\n",
    "import requests\n",
    "from bs4 import *\n",
    "from bs4.element import PageElement\n",
    "import time\n",
    "from base import *"
   ]
  },
  {
   "attachments": {},
   "cell_type": "markdown",
   "metadata": {},
   "source": [
    "Fetch hrefs"
   ]
  },
  {
   "cell_type": "code",
   "execution_count": 20,
   "metadata": {},
   "outputs": [
    {
     "name": "stdout",
     "output_type": "stream",
     "text": [
      " . Fetched 1 hrefs @ https://basketball-reference.com\n",
      " . Fetched 10 hrefs @ https://basketball-reference.com/teams/GSW/2023.html\n",
      " . Fetched 10 hrefs @ https://basketball-reference.com/teams/GSW/2023/on-off/\n",
      " . Fetched 10 hrefs @ https://basketball-reference.com/teams/GSW/2023_start.html\n",
      " . Fetched 11 hrefs @ https://basketball-reference.com/teams/GSW/2023/gamelog/\n",
      " . Fetched 10 hrefs @ https://basketball-reference.com/teams/GSW/2023_depth.html\n",
      " . Fetched 10 hrefs @ https://basketball-reference.com/teams/GSW/2023.html\n",
      " . Fetched 10 hrefs @ https://basketball-reference.com/teams/GSW/2023_games.html\n",
      " . Fetched 10 hrefs @ https://basketball-reference.com/teams/GSW/2023_referees.html\n",
      " . Fetched 10 hrefs @ https://basketball-reference.com/teams/GSW/2023/splits/\n",
      " . Fetched 10 hrefs @ https://basketball-reference.com/teams/GSW/2023/lineups/\n",
      " . Fetched 10 hrefs @ https://basketball-reference.com/teams/GSW/2023_transactions.html\n",
      " . Fetched 10 hrefs @ https://basketball-reference.com/teams/GSW/2023/on-off/\n",
      " . Fetched 10 hrefs @ https://basketball-reference.com/teams/GSW/2023_start.html\n",
      " . Fetched 11 hrefs @ https://basketball-reference.com/teams/GSW/2023/gamelog/\n",
      " . Fetched 10 hrefs @ https://basketball-reference.com/teams/GSW/2023_depth.html\n",
      " . Fetched 10 hrefs @ https://basketball-reference.com/teams/GSW/2023_games.html\n",
      " . Fetched 10 hrefs @ https://basketball-reference.com/teams/GSW/2023_referees.html\n",
      " . Fetched 10 hrefs @ https://basketball-reference.com/teams/GSW/2023/splits/\n",
      " . Fetched 10 hrefs @ https://basketball-reference.com/teams/GSW/2023/lineups/\n",
      " . Fetched 10 hrefs @ https://basketball-reference.com/teams/GSW/2023_transactions.html\n",
      " . Fetched 10 hrefs @ https://basketball-reference.com/teams/GSW/2023_start.html\n",
      " . Fetched 11 hrefs @ https://basketball-reference.com/teams/GSW/2023/gamelog/\n",
      " . Fetched 10 hrefs @ https://basketball-reference.com/teams/GSW/2023_depth.html\n",
      " . Fetched 10 hrefs @ https://basketball-reference.com/teams/GSW/2023_games.html\n",
      " . Fetched 10 hrefs @ https://basketball-reference.com/teams/GSW/2023_referees.html\n",
      " . Fetched 10 hrefs @ https://basketball-reference.com/teams/GSW/2023/splits/\n",
      " . Fetched 10 hrefs @ https://basketball-reference.com/teams/GSW/2023/lineups/\n",
      " . Fetched 10 hrefs @ https://basketball-reference.com/teams/GSW/2023_transactions.html\n",
      " . Fetched 11 hrefs @ https://basketball-reference.com/teams/GSW/2023/gamelog/\n",
      " . Fetched 10 hrefs @ https://basketball-reference.com/teams/GSW/2023_depth.html\n",
      " . Fetched 10 hrefs @ https://basketball-reference.com/teams/GSW/2023_games.html\n",
      " . Fetched 10 hrefs @ https://basketball-reference.com/teams/GSW/2023_referees.html\n",
      " . Fetched 10 hrefs @ https://basketball-reference.com/teams/GSW/2023/splits/\n",
      " . Fetched 10 hrefs @ https://basketball-reference.com/teams/GSW/2023/gamelog-advanced/\n"
     ]
    },
    {
     "ename": "KeyboardInterrupt",
     "evalue": "",
     "output_type": "error",
     "traceback": [
      "\u001b[0;31m---------------------------------------------------------------------------\u001b[0m",
      "\u001b[0;31mKeyboardInterrupt\u001b[0m                         Traceback (most recent call last)",
      "\u001b[1;32m/Users/jasetran/Jase/UM/Git/basketball-analytics/code/v3/01_scraper.ipynb Cell 3\u001b[0m in \u001b[0;36m<cell line: 22>\u001b[0;34m()\u001b[0m\n\u001b[1;32m     <a href='vscode-notebook-cell:/Users/jasetran/Jase/UM/Git/basketball-analytics/code/v3/01_scraper.ipynb#X20sZmlsZQ%3D%3D?line=18'>19</a>\u001b[0m         hrefs \u001b[39m+\u001b[39m\u001b[39m=\u001b[39m \u001b[39mlist\u001b[39m(prev_hrefs)\n\u001b[1;32m     <a href='vscode-notebook-cell:/Users/jasetran/Jase/UM/Git/basketball-analytics/code/v3/01_scraper.ipynb#X20sZmlsZQ%3D%3D?line=19'>20</a>\u001b[0m     \u001b[39mreturn\u001b[39;00m hrefs\n\u001b[0;32m---> <a href='vscode-notebook-cell:/Users/jasetran/Jase/UM/Git/basketball-analytics/code/v3/01_scraper.ipynb#X20sZmlsZQ%3D%3D?line=21'>22</a>\u001b[0m fetch_hrefs(page\u001b[39m=\u001b[39;49m\u001b[39m\"\u001b[39;49m\u001b[39mhttps://basketball-reference.com\u001b[39;49m\u001b[39m\"\u001b[39;49m,allowed_domains\u001b[39m=\u001b[39;49m\u001b[39m\"\u001b[39;49m\u001b[39m/teams/GSW/2023\u001b[39;49m\u001b[39m\"\u001b[39;49m,recursive\u001b[39m=\u001b[39;49m\u001b[39mTrue\u001b[39;49;00m)\n",
      "\u001b[1;32m/Users/jasetran/Jase/UM/Git/basketball-analytics/code/v3/01_scraper.ipynb Cell 3\u001b[0m in \u001b[0;36mfetch_hrefs\u001b[0;34m(page, allowed_domains, recursive, sleep, verbose)\u001b[0m\n\u001b[1;32m     <a href='vscode-notebook-cell:/Users/jasetran/Jase/UM/Git/basketball-analytics/code/v3/01_scraper.ipynb#X20sZmlsZQ%3D%3D?line=13'>14</a>\u001b[0m prev_hrefs \u001b[39m=\u001b[39m \u001b[39mset\u001b[39m()\n\u001b[1;32m     <a href='vscode-notebook-cell:/Users/jasetran/Jase/UM/Git/basketball-analytics/code/v3/01_scraper.ipynb#X20sZmlsZQ%3D%3D?line=14'>15</a>\u001b[0m \u001b[39mfor\u001b[39;00m href_i \u001b[39min\u001b[39;00m next_hrefs:\n\u001b[0;32m---> <a href='vscode-notebook-cell:/Users/jasetran/Jase/UM/Git/basketball-analytics/code/v3/01_scraper.ipynb#X20sZmlsZQ%3D%3D?line=15'>16</a>\u001b[0m     href_i_hrefs \u001b[39m=\u001b[39m fetch_hrefs(\u001b[39mf\u001b[39;49m\u001b[39m\"\u001b[39;49m\u001b[39m{\u001b[39;49;00mpage\u001b[39m}\u001b[39;49;00m\u001b[39m{\u001b[39;49;00mhref_i\u001b[39m}\u001b[39;49;00m\u001b[39m\"\u001b[39;49m,allowed_domains,\u001b[39mFalse\u001b[39;49;00m,sleep,verbose)\n\u001b[1;32m     <a href='vscode-notebook-cell:/Users/jasetran/Jase/UM/Git/basketball-analytics/code/v3/01_scraper.ipynb#X20sZmlsZQ%3D%3D?line=16'>17</a>\u001b[0m     next_hrefs \u001b[39m+\u001b[39m\u001b[39m=\u001b[39m \u001b[39mlist\u001b[39m(\u001b[39mset\u001b[39m(href_i_hrefs) \u001b[39m-\u001b[39m \u001b[39mset\u001b[39m(prev_hrefs))\n\u001b[1;32m     <a href='vscode-notebook-cell:/Users/jasetran/Jase/UM/Git/basketball-analytics/code/v3/01_scraper.ipynb#X20sZmlsZQ%3D%3D?line=17'>18</a>\u001b[0m     prev_hrefs\u001b[39m.\u001b[39madd(href_i)\n",
      "\u001b[1;32m/Users/jasetran/Jase/UM/Git/basketball-analytics/code/v3/01_scraper.ipynb Cell 3\u001b[0m in \u001b[0;36mfetch_hrefs\u001b[0;34m(page, allowed_domains, recursive, sleep, verbose)\u001b[0m\n\u001b[1;32m      <a href='vscode-notebook-cell:/Users/jasetran/Jase/UM/Git/basketball-analytics/code/v3/01_scraper.ipynb#X20sZmlsZQ%3D%3D?line=1'>2</a>\u001b[0m \u001b[39mif\u001b[39;00m \u001b[39mnot\u001b[39;00m \u001b[39misinstance\u001b[39m(allowed_domains,(\u001b[39mtuple\u001b[39m,\u001b[39mlist\u001b[39m)):\n\u001b[1;32m      <a href='vscode-notebook-cell:/Users/jasetran/Jase/UM/Git/basketball-analytics/code/v3/01_scraper.ipynb#X20sZmlsZQ%3D%3D?line=2'>3</a>\u001b[0m     allowed_domains \u001b[39m=\u001b[39m (allowed_domains,)\n\u001b[0;32m----> <a href='vscode-notebook-cell:/Users/jasetran/Jase/UM/Git/basketball-analytics/code/v3/01_scraper.ipynb#X20sZmlsZQ%3D%3D?line=3'>4</a>\u001b[0m page_html \u001b[39m=\u001b[39m fetch_html(page)\n\u001b[1;32m      <a href='vscode-notebook-cell:/Users/jasetran/Jase/UM/Git/basketball-analytics/code/v3/01_scraper.ipynb#X20sZmlsZQ%3D%3D?line=4'>5</a>\u001b[0m soup \u001b[39m=\u001b[39m BeautifulSoup(page_html)\n\u001b[1;32m      <a href='vscode-notebook-cell:/Users/jasetran/Jase/UM/Git/basketball-analytics/code/v3/01_scraper.ipynb#X20sZmlsZQ%3D%3D?line=5'>6</a>\u001b[0m hrefs \u001b[39m=\u001b[39m [a[\u001b[39m'\u001b[39m\u001b[39mhref\u001b[39m\u001b[39m'\u001b[39m] \u001b[39mfor\u001b[39;00m a \u001b[39min\u001b[39;00m soup\u001b[39m.\u001b[39mfind_all(\u001b[39m\"\u001b[39m\u001b[39ma\u001b[39m\u001b[39m\"\u001b[39m,href\u001b[39m=\u001b[39m\u001b[39mTrue\u001b[39;00m) \u001b[39mif\u001b[39;00m a[\u001b[39m'\u001b[39m\u001b[39mhref\u001b[39m\u001b[39m'\u001b[39m]\u001b[39m.\u001b[39mstartswith(\u001b[39mtuple\u001b[39m(allowed_domains))]\n",
      "File \u001b[0;32m~/Jase/UM/Git/basketball-analytics/code/v3/base.py:69\u001b[0m, in \u001b[0;36mfetch_html\u001b[0;34m(url, session)\u001b[0m\n\u001b[1;32m     67\u001b[0m \u001b[39mif\u001b[39;00m session \u001b[39mis\u001b[39;00m \u001b[39mNone\u001b[39;00m:\n\u001b[1;32m     68\u001b[0m     session \u001b[39m=\u001b[39m requests\u001b[39m.\u001b[39mSession()\n\u001b[0;32m---> 69\u001b[0m \u001b[39mreturn\u001b[39;00m re\u001b[39m.\u001b[39msub(\u001b[39m\"\u001b[39m\u001b[39m<!--|-->\u001b[39m\u001b[39m\"\u001b[39m,\u001b[39m\"\u001b[39m\u001b[39m\\n\u001b[39;00m\u001b[39m\"\u001b[39m,session\u001b[39m.\u001b[39;49mget(url)\u001b[39m.\u001b[39mtext)\n",
      "File \u001b[0;32m/opt/homebrew/lib/python3.9/site-packages/requests/sessions.py:542\u001b[0m, in \u001b[0;36mSession.get\u001b[0;34m(self, url, **kwargs)\u001b[0m\n\u001b[1;32m    534\u001b[0m \u001b[39mr\u001b[39m\u001b[39m\"\"\"Sends a GET request. Returns :class:`Response` object.\u001b[39;00m\n\u001b[1;32m    535\u001b[0m \n\u001b[1;32m    536\u001b[0m \u001b[39m:param url: URL for the new :class:`Request` object.\u001b[39;00m\n\u001b[1;32m    537\u001b[0m \u001b[39m:param \\*\\*kwargs: Optional arguments that ``request`` takes.\u001b[39;00m\n\u001b[1;32m    538\u001b[0m \u001b[39m:rtype: requests.Response\u001b[39;00m\n\u001b[1;32m    539\u001b[0m \u001b[39m\"\"\"\u001b[39;00m\n\u001b[1;32m    541\u001b[0m kwargs\u001b[39m.\u001b[39msetdefault(\u001b[39m'\u001b[39m\u001b[39mallow_redirects\u001b[39m\u001b[39m'\u001b[39m, \u001b[39mTrue\u001b[39;00m)\n\u001b[0;32m--> 542\u001b[0m \u001b[39mreturn\u001b[39;00m \u001b[39mself\u001b[39;49m\u001b[39m.\u001b[39;49mrequest(\u001b[39m'\u001b[39;49m\u001b[39mGET\u001b[39;49m\u001b[39m'\u001b[39;49m, url, \u001b[39m*\u001b[39;49m\u001b[39m*\u001b[39;49mkwargs)\n",
      "File \u001b[0;32m/opt/homebrew/lib/python3.9/site-packages/requests/sessions.py:529\u001b[0m, in \u001b[0;36mSession.request\u001b[0;34m(self, method, url, params, data, headers, cookies, files, auth, timeout, allow_redirects, proxies, hooks, stream, verify, cert, json)\u001b[0m\n\u001b[1;32m    524\u001b[0m send_kwargs \u001b[39m=\u001b[39m {\n\u001b[1;32m    525\u001b[0m     \u001b[39m'\u001b[39m\u001b[39mtimeout\u001b[39m\u001b[39m'\u001b[39m: timeout,\n\u001b[1;32m    526\u001b[0m     \u001b[39m'\u001b[39m\u001b[39mallow_redirects\u001b[39m\u001b[39m'\u001b[39m: allow_redirects,\n\u001b[1;32m    527\u001b[0m }\n\u001b[1;32m    528\u001b[0m send_kwargs\u001b[39m.\u001b[39mupdate(settings)\n\u001b[0;32m--> 529\u001b[0m resp \u001b[39m=\u001b[39m \u001b[39mself\u001b[39;49m\u001b[39m.\u001b[39;49msend(prep, \u001b[39m*\u001b[39;49m\u001b[39m*\u001b[39;49msend_kwargs)\n\u001b[1;32m    531\u001b[0m \u001b[39mreturn\u001b[39;00m resp\n",
      "File \u001b[0;32m/opt/homebrew/lib/python3.9/site-packages/requests/sessions.py:645\u001b[0m, in \u001b[0;36mSession.send\u001b[0;34m(self, request, **kwargs)\u001b[0m\n\u001b[1;32m    642\u001b[0m start \u001b[39m=\u001b[39m preferred_clock()\n\u001b[1;32m    644\u001b[0m \u001b[39m# Send the request\u001b[39;00m\n\u001b[0;32m--> 645\u001b[0m r \u001b[39m=\u001b[39m adapter\u001b[39m.\u001b[39;49msend(request, \u001b[39m*\u001b[39;49m\u001b[39m*\u001b[39;49mkwargs)\n\u001b[1;32m    647\u001b[0m \u001b[39m# Total elapsed time of the request (approximately)\u001b[39;00m\n\u001b[1;32m    648\u001b[0m elapsed \u001b[39m=\u001b[39m preferred_clock() \u001b[39m-\u001b[39m start\n",
      "File \u001b[0;32m/opt/homebrew/lib/python3.9/site-packages/requests/adapters.py:440\u001b[0m, in \u001b[0;36mHTTPAdapter.send\u001b[0;34m(self, request, stream, timeout, verify, cert, proxies)\u001b[0m\n\u001b[1;32m    438\u001b[0m \u001b[39mtry\u001b[39;00m:\n\u001b[1;32m    439\u001b[0m     \u001b[39mif\u001b[39;00m \u001b[39mnot\u001b[39;00m chunked:\n\u001b[0;32m--> 440\u001b[0m         resp \u001b[39m=\u001b[39m conn\u001b[39m.\u001b[39;49murlopen(\n\u001b[1;32m    441\u001b[0m             method\u001b[39m=\u001b[39;49mrequest\u001b[39m.\u001b[39;49mmethod,\n\u001b[1;32m    442\u001b[0m             url\u001b[39m=\u001b[39;49murl,\n\u001b[1;32m    443\u001b[0m             body\u001b[39m=\u001b[39;49mrequest\u001b[39m.\u001b[39;49mbody,\n\u001b[1;32m    444\u001b[0m             headers\u001b[39m=\u001b[39;49mrequest\u001b[39m.\u001b[39;49mheaders,\n\u001b[1;32m    445\u001b[0m             redirect\u001b[39m=\u001b[39;49m\u001b[39mFalse\u001b[39;49;00m,\n\u001b[1;32m    446\u001b[0m             assert_same_host\u001b[39m=\u001b[39;49m\u001b[39mFalse\u001b[39;49;00m,\n\u001b[1;32m    447\u001b[0m             preload_content\u001b[39m=\u001b[39;49m\u001b[39mFalse\u001b[39;49;00m,\n\u001b[1;32m    448\u001b[0m             decode_content\u001b[39m=\u001b[39;49m\u001b[39mFalse\u001b[39;49;00m,\n\u001b[1;32m    449\u001b[0m             retries\u001b[39m=\u001b[39;49m\u001b[39mself\u001b[39;49m\u001b[39m.\u001b[39;49mmax_retries,\n\u001b[1;32m    450\u001b[0m             timeout\u001b[39m=\u001b[39;49mtimeout\n\u001b[1;32m    451\u001b[0m         )\n\u001b[1;32m    453\u001b[0m     \u001b[39m# Send the request.\u001b[39;00m\n\u001b[1;32m    454\u001b[0m     \u001b[39melse\u001b[39;00m:\n\u001b[1;32m    455\u001b[0m         \u001b[39mif\u001b[39;00m \u001b[39mhasattr\u001b[39m(conn, \u001b[39m'\u001b[39m\u001b[39mproxy_pool\u001b[39m\u001b[39m'\u001b[39m):\n",
      "File \u001b[0;32m/opt/homebrew/lib/python3.9/site-packages/urllib3/connectionpool.py:703\u001b[0m, in \u001b[0;36mHTTPConnectionPool.urlopen\u001b[0;34m(self, method, url, body, headers, retries, redirect, assert_same_host, timeout, pool_timeout, release_conn, chunked, body_pos, **response_kw)\u001b[0m\n\u001b[1;32m    700\u001b[0m     \u001b[39mself\u001b[39m\u001b[39m.\u001b[39m_prepare_proxy(conn)\n\u001b[1;32m    702\u001b[0m \u001b[39m# Make the request on the httplib connection object.\u001b[39;00m\n\u001b[0;32m--> 703\u001b[0m httplib_response \u001b[39m=\u001b[39m \u001b[39mself\u001b[39;49m\u001b[39m.\u001b[39;49m_make_request(\n\u001b[1;32m    704\u001b[0m     conn,\n\u001b[1;32m    705\u001b[0m     method,\n\u001b[1;32m    706\u001b[0m     url,\n\u001b[1;32m    707\u001b[0m     timeout\u001b[39m=\u001b[39;49mtimeout_obj,\n\u001b[1;32m    708\u001b[0m     body\u001b[39m=\u001b[39;49mbody,\n\u001b[1;32m    709\u001b[0m     headers\u001b[39m=\u001b[39;49mheaders,\n\u001b[1;32m    710\u001b[0m     chunked\u001b[39m=\u001b[39;49mchunked,\n\u001b[1;32m    711\u001b[0m )\n\u001b[1;32m    713\u001b[0m \u001b[39m# If we're going to release the connection in ``finally:``, then\u001b[39;00m\n\u001b[1;32m    714\u001b[0m \u001b[39m# the response doesn't need to know about the connection. Otherwise\u001b[39;00m\n\u001b[1;32m    715\u001b[0m \u001b[39m# it will also try to release it and we'll have a double-release\u001b[39;00m\n\u001b[1;32m    716\u001b[0m \u001b[39m# mess.\u001b[39;00m\n\u001b[1;32m    717\u001b[0m response_conn \u001b[39m=\u001b[39m conn \u001b[39mif\u001b[39;00m \u001b[39mnot\u001b[39;00m release_conn \u001b[39melse\u001b[39;00m \u001b[39mNone\u001b[39;00m\n",
      "File \u001b[0;32m/opt/homebrew/lib/python3.9/site-packages/urllib3/connectionpool.py:449\u001b[0m, in \u001b[0;36mHTTPConnectionPool._make_request\u001b[0;34m(self, conn, method, url, timeout, chunked, **httplib_request_kw)\u001b[0m\n\u001b[1;32m    444\u001b[0m             httplib_response \u001b[39m=\u001b[39m conn\u001b[39m.\u001b[39mgetresponse()\n\u001b[1;32m    445\u001b[0m         \u001b[39mexcept\u001b[39;00m \u001b[39mBaseException\u001b[39;00m \u001b[39mas\u001b[39;00m e:\n\u001b[1;32m    446\u001b[0m             \u001b[39m# Remove the TypeError from the exception chain in\u001b[39;00m\n\u001b[1;32m    447\u001b[0m             \u001b[39m# Python 3 (including for exceptions like SystemExit).\u001b[39;00m\n\u001b[1;32m    448\u001b[0m             \u001b[39m# Otherwise it looks like a bug in the code.\u001b[39;00m\n\u001b[0;32m--> 449\u001b[0m             six\u001b[39m.\u001b[39;49mraise_from(e, \u001b[39mNone\u001b[39;49;00m)\n\u001b[1;32m    450\u001b[0m \u001b[39mexcept\u001b[39;00m (SocketTimeout, BaseSSLError, SocketError) \u001b[39mas\u001b[39;00m e:\n\u001b[1;32m    451\u001b[0m     \u001b[39mself\u001b[39m\u001b[39m.\u001b[39m_raise_timeout(err\u001b[39m=\u001b[39me, url\u001b[39m=\u001b[39murl, timeout_value\u001b[39m=\u001b[39mread_timeout)\n",
      "File \u001b[0;32m<string>:3\u001b[0m, in \u001b[0;36mraise_from\u001b[0;34m(value, from_value)\u001b[0m\n",
      "File \u001b[0;32m/opt/homebrew/lib/python3.9/site-packages/urllib3/connectionpool.py:444\u001b[0m, in \u001b[0;36mHTTPConnectionPool._make_request\u001b[0;34m(self, conn, method, url, timeout, chunked, **httplib_request_kw)\u001b[0m\n\u001b[1;32m    441\u001b[0m \u001b[39mexcept\u001b[39;00m \u001b[39mTypeError\u001b[39;00m:\n\u001b[1;32m    442\u001b[0m     \u001b[39m# Python 3\u001b[39;00m\n\u001b[1;32m    443\u001b[0m     \u001b[39mtry\u001b[39;00m:\n\u001b[0;32m--> 444\u001b[0m         httplib_response \u001b[39m=\u001b[39m conn\u001b[39m.\u001b[39;49mgetresponse()\n\u001b[1;32m    445\u001b[0m     \u001b[39mexcept\u001b[39;00m \u001b[39mBaseException\u001b[39;00m \u001b[39mas\u001b[39;00m e:\n\u001b[1;32m    446\u001b[0m         \u001b[39m# Remove the TypeError from the exception chain in\u001b[39;00m\n\u001b[1;32m    447\u001b[0m         \u001b[39m# Python 3 (including for exceptions like SystemExit).\u001b[39;00m\n\u001b[1;32m    448\u001b[0m         \u001b[39m# Otherwise it looks like a bug in the code.\u001b[39;00m\n\u001b[1;32m    449\u001b[0m         six\u001b[39m.\u001b[39mraise_from(e, \u001b[39mNone\u001b[39;00m)\n",
      "File \u001b[0;32m/opt/homebrew/Cellar/python@3.9/3.9.13_1/Frameworks/Python.framework/Versions/3.9/lib/python3.9/http/client.py:1377\u001b[0m, in \u001b[0;36mHTTPConnection.getresponse\u001b[0;34m(self)\u001b[0m\n\u001b[1;32m   1375\u001b[0m \u001b[39mtry\u001b[39;00m:\n\u001b[1;32m   1376\u001b[0m     \u001b[39mtry\u001b[39;00m:\n\u001b[0;32m-> 1377\u001b[0m         response\u001b[39m.\u001b[39;49mbegin()\n\u001b[1;32m   1378\u001b[0m     \u001b[39mexcept\u001b[39;00m \u001b[39mConnectionError\u001b[39;00m:\n\u001b[1;32m   1379\u001b[0m         \u001b[39mself\u001b[39m\u001b[39m.\u001b[39mclose()\n",
      "File \u001b[0;32m/opt/homebrew/Cellar/python@3.9/3.9.13_1/Frameworks/Python.framework/Versions/3.9/lib/python3.9/http/client.py:320\u001b[0m, in \u001b[0;36mHTTPResponse.begin\u001b[0;34m(self)\u001b[0m\n\u001b[1;32m    318\u001b[0m \u001b[39m# read until we get a non-100 response\u001b[39;00m\n\u001b[1;32m    319\u001b[0m \u001b[39mwhile\u001b[39;00m \u001b[39mTrue\u001b[39;00m:\n\u001b[0;32m--> 320\u001b[0m     version, status, reason \u001b[39m=\u001b[39m \u001b[39mself\u001b[39;49m\u001b[39m.\u001b[39;49m_read_status()\n\u001b[1;32m    321\u001b[0m     \u001b[39mif\u001b[39;00m status \u001b[39m!=\u001b[39m CONTINUE:\n\u001b[1;32m    322\u001b[0m         \u001b[39mbreak\u001b[39;00m\n",
      "File \u001b[0;32m/opt/homebrew/Cellar/python@3.9/3.9.13_1/Frameworks/Python.framework/Versions/3.9/lib/python3.9/http/client.py:281\u001b[0m, in \u001b[0;36mHTTPResponse._read_status\u001b[0;34m(self)\u001b[0m\n\u001b[1;32m    280\u001b[0m \u001b[39mdef\u001b[39;00m \u001b[39m_read_status\u001b[39m(\u001b[39mself\u001b[39m):\n\u001b[0;32m--> 281\u001b[0m     line \u001b[39m=\u001b[39m \u001b[39mstr\u001b[39m(\u001b[39mself\u001b[39;49m\u001b[39m.\u001b[39;49mfp\u001b[39m.\u001b[39;49mreadline(_MAXLINE \u001b[39m+\u001b[39;49m \u001b[39m1\u001b[39;49m), \u001b[39m\"\u001b[39m\u001b[39miso-8859-1\u001b[39m\u001b[39m\"\u001b[39m)\n\u001b[1;32m    282\u001b[0m     \u001b[39mif\u001b[39;00m \u001b[39mlen\u001b[39m(line) \u001b[39m>\u001b[39m _MAXLINE:\n\u001b[1;32m    283\u001b[0m         \u001b[39mraise\u001b[39;00m LineTooLong(\u001b[39m\"\u001b[39m\u001b[39mstatus line\u001b[39m\u001b[39m\"\u001b[39m)\n",
      "File \u001b[0;32m/opt/homebrew/Cellar/python@3.9/3.9.13_1/Frameworks/Python.framework/Versions/3.9/lib/python3.9/socket.py:704\u001b[0m, in \u001b[0;36mSocketIO.readinto\u001b[0;34m(self, b)\u001b[0m\n\u001b[1;32m    702\u001b[0m \u001b[39mwhile\u001b[39;00m \u001b[39mTrue\u001b[39;00m:\n\u001b[1;32m    703\u001b[0m     \u001b[39mtry\u001b[39;00m:\n\u001b[0;32m--> 704\u001b[0m         \u001b[39mreturn\u001b[39;00m \u001b[39mself\u001b[39;49m\u001b[39m.\u001b[39;49m_sock\u001b[39m.\u001b[39;49mrecv_into(b)\n\u001b[1;32m    705\u001b[0m     \u001b[39mexcept\u001b[39;00m timeout:\n\u001b[1;32m    706\u001b[0m         \u001b[39mself\u001b[39m\u001b[39m.\u001b[39m_timeout_occurred \u001b[39m=\u001b[39m \u001b[39mTrue\u001b[39;00m\n",
      "File \u001b[0;32m/opt/homebrew/Cellar/python@3.9/3.9.13_1/Frameworks/Python.framework/Versions/3.9/lib/python3.9/ssl.py:1242\u001b[0m, in \u001b[0;36mSSLSocket.recv_into\u001b[0;34m(self, buffer, nbytes, flags)\u001b[0m\n\u001b[1;32m   1238\u001b[0m     \u001b[39mif\u001b[39;00m flags \u001b[39m!=\u001b[39m \u001b[39m0\u001b[39m:\n\u001b[1;32m   1239\u001b[0m         \u001b[39mraise\u001b[39;00m \u001b[39mValueError\u001b[39;00m(\n\u001b[1;32m   1240\u001b[0m           \u001b[39m\"\u001b[39m\u001b[39mnon-zero flags not allowed in calls to recv_into() on \u001b[39m\u001b[39m%s\u001b[39;00m\u001b[39m\"\u001b[39m \u001b[39m%\u001b[39m\n\u001b[1;32m   1241\u001b[0m           \u001b[39mself\u001b[39m\u001b[39m.\u001b[39m\u001b[39m__class__\u001b[39m)\n\u001b[0;32m-> 1242\u001b[0m     \u001b[39mreturn\u001b[39;00m \u001b[39mself\u001b[39;49m\u001b[39m.\u001b[39;49mread(nbytes, buffer)\n\u001b[1;32m   1243\u001b[0m \u001b[39melse\u001b[39;00m:\n\u001b[1;32m   1244\u001b[0m     \u001b[39mreturn\u001b[39;00m \u001b[39msuper\u001b[39m()\u001b[39m.\u001b[39mrecv_into(buffer, nbytes, flags)\n",
      "File \u001b[0;32m/opt/homebrew/Cellar/python@3.9/3.9.13_1/Frameworks/Python.framework/Versions/3.9/lib/python3.9/ssl.py:1100\u001b[0m, in \u001b[0;36mSSLSocket.read\u001b[0;34m(self, len, buffer)\u001b[0m\n\u001b[1;32m   1098\u001b[0m \u001b[39mtry\u001b[39;00m:\n\u001b[1;32m   1099\u001b[0m     \u001b[39mif\u001b[39;00m buffer \u001b[39mis\u001b[39;00m \u001b[39mnot\u001b[39;00m \u001b[39mNone\u001b[39;00m:\n\u001b[0;32m-> 1100\u001b[0m         \u001b[39mreturn\u001b[39;00m \u001b[39mself\u001b[39;49m\u001b[39m.\u001b[39;49m_sslobj\u001b[39m.\u001b[39;49mread(\u001b[39mlen\u001b[39;49m, buffer)\n\u001b[1;32m   1101\u001b[0m     \u001b[39melse\u001b[39;00m:\n\u001b[1;32m   1102\u001b[0m         \u001b[39mreturn\u001b[39;00m \u001b[39mself\u001b[39m\u001b[39m.\u001b[39m_sslobj\u001b[39m.\u001b[39mread(\u001b[39mlen\u001b[39m)\n",
      "\u001b[0;31mKeyboardInterrupt\u001b[0m: "
     ]
    }
   ],
   "source": [
    "def fetch_hrefs(page,allowed_domains=None,fetch_subpages=False,sleep=3.5,verbose=True):\n",
    "    if not isinstance(allowed_domains,(tuple,list)):\n",
    "        allowed_domains = (allowed_domains,)\n",
    "    page_html = fetch_html(page)\n",
    "    soup = BeautifulSoup(page_html)\n",
    "    hrefs = [a['href'] for a in soup.find_all(\"a\",href=True) if a['href'].startswith(tuple(allowed_domains))]\n",
    "    hrefs = list(set(hrefs))\n",
    "    if verbose:\n",
    "        print(f\" . Fetched {len(hrefs)} hrefs @ {page}\")\n",
    "    time.sleep(sleep)\n",
    "\n",
    "    if fetch_subpages:\n",
    "        next_hrefs = hrefs\n",
    "        prev_hrefs = set()\n",
    "        for href_i in next_hrefs:\n",
    "            href_i_hrefs = fetch_hrefs(f\"{page}{href_i}\",allowed_domains,False,sleep,verbose)\n",
    "            next_hrefs += list(set(href_i_hrefs) - set(prev_hrefs))\n",
    "            prev_hrefs.add(href_i)\n",
    "        hrefs += list(prev_hrefs)\n",
    "    return hrefs\n",
    "\n",
    "fetch_hrefs(page=\"https://basketball-reference.com\",allowed_domains=\"/teams/GSW/2023\",fetch_subpages=True)"
   ]
  },
  {
   "cell_type": "code",
   "execution_count": 18,
   "metadata": {},
   "outputs": [
    {
     "data": {
      "text/plain": [
       "{2, 4}"
      ]
     },
     "execution_count": 18,
     "metadata": {},
     "output_type": "execute_result"
    }
   ],
   "source": [
    "set([1,2,3,4]) - (set([1,3,5]))"
   ]
  },
  {
   "cell_type": "code",
   "execution_count": 4,
   "metadata": {},
   "outputs": [
    {
     "data": {
      "text/plain": [
       "'<!DOCTYPE html>\\n\\n[if lt IE 7]> <html class=\"no-js ie6 oldie\" lang=\"en-US\"> <![endif]\\n\\n\\n[if IE 7]>    <html class=\"no-js ie7 oldie\" lang=\"en-US\"> <![endif]\\n\\n\\n[if IE 8]>    <html class=\"no-js ie8 oldie\" lang=\"en-US\"> <![endif]\\n\\n\\n[if gt IE 8]>\\n> <html class=\"no-js\" lang=\"en-US\"> \\n<![endif]\\n\\n<head>\\n<title>Access denied | www.basketball-reference.com used Cloudflare to restrict access</title>\\n<meta charset=\"UTF-8\" />\\n<meta http-equiv=\"Content-Type\" content=\"text/html; charset=UTF-8\" />\\n<meta http-equiv=\"X-UA-Compatible\" content=\"IE=Edge\" />\\n<meta name=\"robots\" content=\"noindex, nofollow\" />\\n<meta name=\"viewport\" content=\"width=device-width,initial-scale=1\" />\\n<link rel=\"stylesheet\" id=\"cf_styles-css\" href=\"/cdn-cgi/styles/main.css\" />\\n\\n\\n<script>\\n(function(){if(document.addEventListener&&window.XMLHttpRequest&&JSON&&JSON.stringify){var e=function(a){var c=document.getElementById(\"error-feedback-survey\"),d=document.getElementById(\"error-feedback-success\"),b=new XMLHttpRequest;a={event:\"feedback clicked\",properties:{errorCode:1015,helpful:a,version:1}};b.open(\"POST\",\"https://sparrow.cloudflare.com/api/v1/event\");b.setRequestHeader(\"Content-Type\",\"application/json\");b.setRequestHeader(\"Sparrow-Source-Key\",\"c771f0e4b54944bebf4261d44bd79a1e\");\\nb.send(JSON.stringify(a));c.classList.add(\"feedback-hidden\");d.classList.remove(\"feedback-hidden\")};document.addEventListener(\"DOMContentLoaded\",function(){var a=document.getElementById(\"error-feedback\"),c=document.getElementById(\"feedback-button-yes\"),d=document.getElementById(\"feedback-button-no\");\"classList\"in a&&(a.classList.remove(\"feedback-hidden\"),c.addEventListener(\"click\",function(){e(!0)}),d.addEventListener(\"click\",function(){e(!1)}))})}})();\\n</script>\\n\\n<script defer src=\"https://performance.radar.cloudflare.com/beacon.js\"></script>\\n</head>\\n<body>\\n  <div id=\"cf-wrapper\">\\n    <div class=\"cf-alert cf-alert-error cf-cookie-error hidden\" id=\"cookie-alert\" data-translate=\"enable_cookies\">Please enable cookies.</div>\\n    <div id=\"cf-error-details\" class=\"p-0\">\\n      <header class=\"mx-auto pt-10 lg:pt-6 lg:px-8 w-240 lg:w-full mb-15 antialiased\">\\n         <h1 class=\"inline-block md:block mr-2 md:mb-2 font-light text-60 md:text-3xl text-black-dark leading-tight\">\\n           <span data-translate=\"error\">Error</span>\\n           <span>1015</span>\\n         </h1>\\n         <span class=\"inline-block md:block heading-ray-id font-mono text-15 lg:text-sm lg:leading-relaxed\">Ray ID: 780623edd8b44961 &bull;</span>\\n         <span class=\"inline-block md:block heading-ray-id font-mono text-15 lg:text-sm lg:leading-relaxed\">2022-12-28 00:22:13 UTC</span>\\n        <h2 class=\"text-gray-600 leading-1.3 text-3xl lg:text-2xl font-light\">You are being rate limited</h2>\\n      </header>\\n\\n      <section class=\"w-240 lg:w-full mx-auto mb-8 lg:px-8\">\\n          <div id=\"what-happened-section\" class=\"w-1/2 md:w-full\">\\n            <h2 class=\"text-3xl leading-tight font-normal mb-4 text-black-dark antialiased\" data-translate=\"what_happened\">What happened?</h2>\\n            <p>The owner of this website (www.basketball-reference.com) has banned you temporarily from accessing this website.</p>\\n            \\n          </div>\\n\\n          \\n      </section>\\n\\n      <div class=\"feedback-hidden py-8 text-center\" id=\"error-feedback\">\\n    <div id=\"error-feedback-survey\" class=\"footer-line-wrapper\">\\n        Was this page helpful?\\n        <button class=\"border border-solid bg-white cf-button cursor-pointer ml-4 px-4 py-2 rounded\" id=\"feedback-button-yes\" type=\"button\">Yes</button>\\n        <button class=\"border border-solid bg-white cf-button cursor-pointer ml-4 px-4 py-2 rounded\" id=\"feedback-button-no\" type=\"button\">No</button>\\n    </div>\\n    <div class=\"feedback-success feedback-hidden\" id=\"error-feedback-success\">\\n        Thank you for your feedback!\\n    </div>\\n</div>\\n\\n\\n      <div class=\"cf-error-footer cf-wrapper w-240 lg:w-full py-10 sm:py-4 sm:px-8 mx-auto text-center sm:text-left border-solid border-0 border-t border-gray-300\">\\n  <p class=\"text-13\">\\n    <span class=\"cf-footer-item sm:block sm:mb-1\">Cloudflare Ray ID: <strong class=\"font-semibold\">780623edd8b44961</strong></span>\\n    <span class=\"cf-footer-separator sm:hidden\">&bull;</span>\\n    <span id=\"cf-footer-item-ip\" class=\"cf-footer-item hidden sm:block sm:mb-1\">\\n      Your IP:\\n      <button type=\"button\" id=\"cf-footer-ip-reveal\" class=\"cf-footer-ip-reveal-btn\">Click to reveal</button>\\n      <span class=\"hidden\" id=\"cf-footer-ip\">148.72.174.39</span>\\n      <span class=\"cf-footer-separator sm:hidden\">&bull;</span>\\n    </span>\\n    <span class=\"cf-footer-item sm:block sm:mb-1\"><span>Performance &amp; security by</span> <a rel=\"noopener noreferrer\" href=\"https://www.cloudflare.com/5xx-error-landing\" id=\"brand_link\" target=\"_blank\">Cloudflare</a></span>\\n    \\n  </p>\\n  <script>(function(){function d(){var b=a.getElementById(\"cf-footer-item-ip\"),c=a.getElementById(\"cf-footer-ip-reveal\");b&&\"classList\"in b&&(b.classList.remove(\"hidden\"),c.addEventListener(\"click\",function(){c.classList.add(\"hidden\");a.getElementById(\"cf-footer-ip\").classList.remove(\"hidden\")}))}var a=document;document.addEventListener&&a.addEventListener(\"DOMContentLoaded\",d)})();</script>\\n</div>\\n /.error-footer \\n\\n\\n\\n    </div>\\n /#cf-error-details \\n\\n  </div>\\n /#cf-wrapper \\n\\n\\n  <script>\\n  window._cf_translation = {};\\n  \\n  \\n</script>\\n\\n</body>\\n</html>\\n'"
      ]
     },
     "execution_count": 4,
     "metadata": {},
     "output_type": "execute_result"
    }
   ],
   "source": [
    "fetch_html(\"https://basketball-reference.com\")"
   ]
  },
  {
   "cell_type": "code",
   "execution_count": 29,
   "metadata": {},
   "outputs": [
    {
     "name": "stdout",
     "output_type": "stream",
     "text": [
      "0/298 (total=1) /players/\n",
      "1/570 (total=2) /teams/\n",
      "2/696 (total=3) /leagues/\n",
      "3/1643 (total=4) /boxscores/\n",
      "4/1797 (total=5) /players/\n",
      "5/1797 (total=5) /players/e/eliema01.html\n",
      "6/3143 (total=6) /players/b/brookaa01.html\n",
      "7/4467 (total=7) /players/b/brownja02.html\n",
      "8/5326 (total=8) /players/f/fosteje01.html\n",
      "9/6611 (total=9) /players/r/reevebr01.html\n",
      "10/7091 (total=10) /players/k/keefead01.html\n",
      "11/8079 (total=11) /players/h/hilljo01.html\n",
      "12/9051 (total=12) /leagues/NBA_2023_rookies.html\n",
      "13/9322 (total=13) /players/w/willial06.html\n",
      "14/9497 (total=14) /players/m/minotjo01.html\n",
      "15/9678 (total=15) /players/b/brownke03.html\n",
      "16/9864 (total=16) /players/c/champju02.html\n",
      "17/10041 (total=17) /players/f/fostemi02.html\n",
      "18/10190 (total=18) /players/r/robinor01.html\n",
      "19/10366 (total=19) /players/\n",
      "20/10366 (total=19) /players/o/orrlo01.html\n",
      "21/11014 (total=20) /players/s/silaspa01.html\n",
      "22/12230 (total=21) /players/m/mooreje01.html\n",
      "23/12312 (total=22) /players/w/wrighji01.html\n"
     ]
    },
    {
     "ename": "KeyboardInterrupt",
     "evalue": "",
     "output_type": "error",
     "traceback": [
      "\u001b[0;31m---------------------------------------------------------------------------\u001b[0m",
      "\u001b[0;31mKeyboardInterrupt\u001b[0m                         Traceback (most recent call last)",
      "\u001b[1;32m/Users/jasetran/Jase/UM/Git/basketball-analytics/code/v3/01_scraper.ipynb Cell 3\u001b[0m in \u001b[0;36m<cell line: 56>\u001b[0;34m()\u001b[0m\n\u001b[1;32m     <a href='vscode-notebook-cell:/Users/jasetran/Jase/UM/Git/basketball-analytics/code/v3/01_scraper.ipynb#W4sZmlsZQ%3D%3D?line=53'>54</a>\u001b[0m hrefs_index_filepath \u001b[39m=\u001b[39m \u001b[39m'\u001b[39m\u001b[39m./basketball-reference.com/hrefs_index.csv\u001b[39m\u001b[39m'\u001b[39m\n\u001b[1;32m     <a href='vscode-notebook-cell:/Users/jasetran/Jase/UM/Git/basketball-analytics/code/v3/01_scraper.ipynb#W4sZmlsZQ%3D%3D?line=54'>55</a>\u001b[0m hrefs_index \u001b[39m=\u001b[39m pd\u001b[39m.\u001b[39mread_csv(hrefs_index_filepath)\u001b[39m.\u001b[39mdrop(columns\u001b[39m=\u001b[39m\u001b[39m'\u001b[39m\u001b[39mUnnamed: 0\u001b[39m\u001b[39m'\u001b[39m)\n\u001b[0;32m---> <a href='vscode-notebook-cell:/Users/jasetran/Jase/UM/Git/basketball-analytics/code/v3/01_scraper.ipynb#W4sZmlsZQ%3D%3D?line=55'>56</a>\u001b[0m fetch_update_hrefs_index(hrefs_index,page\u001b[39m=\u001b[39;49m\u001b[39m\"\u001b[39;49m\u001b[39m/\u001b[39;49m\u001b[39m\"\u001b[39;49m,fetch_subpages\u001b[39m=\u001b[39;49m\u001b[39mTrue\u001b[39;49;00m,output\u001b[39m=\u001b[39;49mhrefs_index_filepath)\n",
      "\u001b[1;32m/Users/jasetran/Jase/UM/Git/basketball-analytics/code/v3/01_scraper.ipynb Cell 3\u001b[0m in \u001b[0;36mfetch_update_hrefs_index\u001b[0;34m(hrefs_index, host, page, fetch_subpages, output, sleep)\u001b[0m\n\u001b[1;32m     <a href='vscode-notebook-cell:/Users/jasetran/Jase/UM/Git/basketball-analytics/code/v3/01_scraper.ipynb#W4sZmlsZQ%3D%3D?line=35'>36</a>\u001b[0m             next_hrefs \u001b[39m=\u001b[39m (next_hrefs \u001b[39m+\u001b[39m all_hrefs_ij)[\u001b[39m1\u001b[39m:]\n\u001b[1;32m     <a href='vscode-notebook-cell:/Users/jasetran/Jase/UM/Git/basketball-analytics/code/v3/01_scraper.ipynb#W4sZmlsZQ%3D%3D?line=36'>37</a>\u001b[0m             prev_hrefs\u001b[39m.\u001b[39mappend(href_i)\n\u001b[0;32m---> <a href='vscode-notebook-cell:/Users/jasetran/Jase/UM/Git/basketball-analytics/code/v3/01_scraper.ipynb#W4sZmlsZQ%3D%3D?line=37'>38</a>\u001b[0m             time\u001b[39m.\u001b[39;49msleep(sleep)\n\u001b[1;32m     <a href='vscode-notebook-cell:/Users/jasetran/Jase/UM/Git/basketball-analytics/code/v3/01_scraper.ipynb#W4sZmlsZQ%3D%3D?line=38'>39</a>\u001b[0m         i\u001b[39m+\u001b[39m\u001b[39m=\u001b[39m\u001b[39m1\u001b[39m\n\u001b[1;32m     <a href='vscode-notebook-cell:/Users/jasetran/Jase/UM/Git/basketball-analytics/code/v3/01_scraper.ipynb#W4sZmlsZQ%3D%3D?line=39'>40</a>\u001b[0m \u001b[39mreturn\u001b[39;00m hrefs_index\n",
      "\u001b[0;31mKeyboardInterrupt\u001b[0m: "
     ]
    }
   ],
   "source": [
    "def filedir_name(filepath):\n",
    "    loc = filepath[::-1].find(\"/\")\n",
    "    if loc == -1:\n",
    "        return \"./\",filepath\n",
    "    else:\n",
    "        return filepath[:-loc],filepath[-loc:]\n",
    "\n",
    "def fetch_hrefs_list(source,allowed_hrefs=('/players','/teams','/leagues','/boxscores')):\n",
    "    soup = BeautifulSoup(fetch_html(source))\n",
    "    hrefs = [a['href'] for a in soup.find_all(\"a\",href=True) if a['href'].startswith(allowed_hrefs)]\n",
    "    return hrefs\n",
    "\n",
    "def update_hrefs_index(hrefs_index=None,hrefs=[],host=\"https://basketball-reference.com\",output=None):\n",
    "    if isinstance(hrefs,str):\n",
    "        hrefs = [hrefs]\n",
    "    for href in hrefs:\n",
    "        if href not in pd.unique(hrefs_index['host_href']):\n",
    "            local_href = f\"./{host.strip('https://')}{href}\" if href.endswith('.html') else f\"./{host.strip('https://')}{href}/index.html\"\n",
    "            hrefs_index.loc[len(hrefs_index)] = {'host_href':href,'local_href':local_href,'last_updated':np.nan}\n",
    "    if output is not None:\n",
    "        hrefs_index.to_csv(output)\n",
    "    return hrefs_index\n",
    "\n",
    "def fetch_update_hrefs_index(hrefs_index,host = \"https://basketball-reference.com\",page=\"/\",fetch_subpages=False,output=None,sleep=3.5):\n",
    "    hrefs = fetch_hrefs_list(f\"{host}{page}\")\n",
    "    hrefs_index = update_hrefs_index(hrefs_index,hrefs,host=host,output=output)\n",
    "    if fetch_subpages:\n",
    "        next_hrefs = hrefs\n",
    "        prev_hrefs = [page]\n",
    "        for href_i in next_hrefs:\n",
    "            print(f\"{len(prev_hrefs)}/{len(next_hrefs)}  {href_i}\")\n",
    "            if href_i not in prev_hrefs:\n",
    "                all_hrefs_ij = fetch_hrefs_list(f\"{host}{href_i}\")\n",
    "                hrefs_index = update_hrefs_index(hrefs_index,all_hrefs_ij,host=host,output=output)\n",
    "                next_hrefs = (next_hrefs + all_hrefs_ij)[1:]\n",
    "                prev_hrefs.append(href_i)\n",
    "                time.sleep(sleep)\n",
    "    return hrefs_index\n",
    "\n",
    "def fetch_update_hrefs_html(hrefs_index,host=\"https://basketball-reference.com\",page=\"/\",last_updated=1,sleep=3.5,output=None):\n",
    "    update_rows = (hrefs_index['host_href'].str.startswith(page)\n",
    "                    & ((pd.to_datetime(hrefs_index['last_updated']) <= pd.Timestamp.today() - 1 * pd.Timedelta(1,'D')) | hrefs_index['last_updated'].isna()))\n",
    "    for i,href_row in hrefs_index[update_rows].iterrows():\n",
    "        hrefs_index.loc[i,'last_updated'] = pd.Timestamp.today()\n",
    "        html_url = f\"{host}{href_row['host_href']}\"\n",
    "        local_url = f\"{href_row['local_href']}\"\n",
    "        write(fetch_html(html_url),local_url)\n",
    "        hrefs_index.to_csv(output)\n",
    "        time.sleep(sleep)\n",
    "    return hrefs_index    \n",
    "\n",
    "hrefs_index_filepath = './basketball-reference.com/hrefs_index.csv'\n",
    "hrefs_index = pd.read_csv(hrefs_index_filepath).drop(columns='Unnamed: 0')\n",
    "fetch_update_hrefs_index(hrefs_index,page=\"/\",fetch_subpages=True,output=hrefs_index_filepath)"
   ]
  },
  {
   "cell_type": "code",
   "execution_count": 27,
   "metadata": {},
   "outputs": [
    {
     "data": {
      "text/html": [
       "<div>\n",
       "<style scoped>\n",
       "    .dataframe tbody tr th:only-of-type {\n",
       "        vertical-align: middle;\n",
       "    }\n",
       "\n",
       "    .dataframe tbody tr th {\n",
       "        vertical-align: top;\n",
       "    }\n",
       "\n",
       "    .dataframe thead th {\n",
       "        text-align: right;\n",
       "    }\n",
       "</style>\n",
       "<table border=\"1\" class=\"dataframe\">\n",
       "  <thead>\n",
       "    <tr style=\"text-align: right;\">\n",
       "      <th></th>\n",
       "      <th>host_href</th>\n",
       "      <th>local_href</th>\n",
       "      <th>last_updated</th>\n",
       "    </tr>\n",
       "  </thead>\n",
       "  <tbody>\n",
       "    <tr>\n",
       "      <th>0</th>\n",
       "      <td>/boxscores/</td>\n",
       "      <td>basketball-reference.com/boxscores/index.html</td>\n",
       "      <td>2022-12-26 13:16:49.702286</td>\n",
       "    </tr>\n",
       "    <tr>\n",
       "      <th>10927</th>\n",
       "      <td>/boxscores/194911030SYR.html</td>\n",
       "      <td>./basketball-reference.com/boxscores/194911030...</td>\n",
       "      <td>NaN</td>\n",
       "    </tr>\n",
       "    <tr>\n",
       "      <th>10963</th>\n",
       "      <td>/boxscores/194911170SYR.html</td>\n",
       "      <td>./basketball-reference.com/boxscores/194911170...</td>\n",
       "      <td>NaN</td>\n",
       "    </tr>\n",
       "    <tr>\n",
       "      <th>10962</th>\n",
       "      <td>/boxscores/194912070TRI.html</td>\n",
       "      <td>./basketball-reference.com/boxscores/194912070...</td>\n",
       "      <td>NaN</td>\n",
       "    </tr>\n",
       "    <tr>\n",
       "      <th>11014</th>\n",
       "      <td>/boxscores/195003260SYR.html</td>\n",
       "      <td>./basketball-reference.com/boxscores/195003260...</td>\n",
       "      <td>NaN</td>\n",
       "    </tr>\n",
       "    <tr>\n",
       "      <th>...</th>\n",
       "      <td>...</td>\n",
       "      <td>...</td>\n",
       "      <td>...</td>\n",
       "    </tr>\n",
       "    <tr>\n",
       "      <th>4887</th>\n",
       "      <td>/teams/WSB/1994.html</td>\n",
       "      <td>./basketball-reference.com/teams/WSB/1994.html</td>\n",
       "      <td>NaN</td>\n",
       "    </tr>\n",
       "    <tr>\n",
       "      <th>4885</th>\n",
       "      <td>/teams/WSB/1995.html</td>\n",
       "      <td>./basketball-reference.com/teams/WSB/1995.html</td>\n",
       "      <td>NaN</td>\n",
       "    </tr>\n",
       "    <tr>\n",
       "      <th>4883</th>\n",
       "      <td>/teams/WSB/1996.html</td>\n",
       "      <td>./basketball-reference.com/teams/WSB/1996.html</td>\n",
       "      <td>NaN</td>\n",
       "    </tr>\n",
       "    <tr>\n",
       "      <th>4882</th>\n",
       "      <td>/teams/WSB/1997.html</td>\n",
       "      <td>./basketball-reference.com/teams/WSB/1997.html</td>\n",
       "      <td>NaN</td>\n",
       "    </tr>\n",
       "    <tr>\n",
       "      <th>321</th>\n",
       "      <td>/teams/WSC/</td>\n",
       "      <td>./basketball-reference.com/teams/WSC/index.html</td>\n",
       "      <td>NaN</td>\n",
       "    </tr>\n",
       "  </tbody>\n",
       "</table>\n",
       "<p>14947 rows × 3 columns</p>\n",
       "</div>"
      ],
      "text/plain": [
       "                          host_href  \\\n",
       "0                       /boxscores/   \n",
       "10927  /boxscores/194911030SYR.html   \n",
       "10963  /boxscores/194911170SYR.html   \n",
       "10962  /boxscores/194912070TRI.html   \n",
       "11014  /boxscores/195003260SYR.html   \n",
       "...                             ...   \n",
       "4887           /teams/WSB/1994.html   \n",
       "4885           /teams/WSB/1995.html   \n",
       "4883           /teams/WSB/1996.html   \n",
       "4882           /teams/WSB/1997.html   \n",
       "321                     /teams/WSC/   \n",
       "\n",
       "                                              local_href  \\\n",
       "0          basketball-reference.com/boxscores/index.html   \n",
       "10927  ./basketball-reference.com/boxscores/194911030...   \n",
       "10963  ./basketball-reference.com/boxscores/194911170...   \n",
       "10962  ./basketball-reference.com/boxscores/194912070...   \n",
       "11014  ./basketball-reference.com/boxscores/195003260...   \n",
       "...                                                  ...   \n",
       "4887      ./basketball-reference.com/teams/WSB/1994.html   \n",
       "4885      ./basketball-reference.com/teams/WSB/1995.html   \n",
       "4883      ./basketball-reference.com/teams/WSB/1996.html   \n",
       "4882      ./basketball-reference.com/teams/WSB/1997.html   \n",
       "321      ./basketball-reference.com/teams/WSC/index.html   \n",
       "\n",
       "                     last_updated  \n",
       "0      2022-12-26 13:16:49.702286  \n",
       "10927                         NaN  \n",
       "10963                         NaN  \n",
       "10962                         NaN  \n",
       "11014                         NaN  \n",
       "...                           ...  \n",
       "4887                          NaN  \n",
       "4885                          NaN  \n",
       "4883                          NaN  \n",
       "4882                          NaN  \n",
       "321                           NaN  \n",
       "\n",
       "[14947 rows x 3 columns]"
      ]
     },
     "execution_count": 27,
     "metadata": {},
     "output_type": "execute_result"
    }
   ],
   "source": [
    "hrefs_index = hrefs_index.sort_values('host_href')\n",
    "hrefs_index"
   ]
  },
  {
   "cell_type": "code",
   "execution_count": 28,
   "metadata": {},
   "outputs": [
    {
     "ename": "KeyboardInterrupt",
     "evalue": "",
     "output_type": "error",
     "traceback": [
      "\u001b[0;31m---------------------------------------------------------------------------\u001b[0m",
      "\u001b[0;31mKeyboardInterrupt\u001b[0m                         Traceback (most recent call last)",
      "\u001b[1;32m/Users/jasetran/Jase/UM/Git/basketball-analytics/code/v3/01_scraper.ipynb Cell 5\u001b[0m in \u001b[0;36m<cell line: 1>\u001b[0;34m()\u001b[0m\n\u001b[0;32m----> <a href='vscode-notebook-cell:/Users/jasetran/Jase/UM/Git/basketball-analytics/code/v3/01_scraper.ipynb#W6sZmlsZQ%3D%3D?line=0'>1</a>\u001b[0m fetch_update_hrefs_html(hrefs_index,page\u001b[39m=\u001b[39;49m\u001b[39m\"\u001b[39;49m\u001b[39m/\u001b[39;49m\u001b[39m\"\u001b[39;49m,last_updated\u001b[39m=\u001b[39;49m\u001b[39m0\u001b[39;49m,output\u001b[39m=\u001b[39;49mhrefs_index_filepath)\n",
      "\u001b[1;32m/Users/jasetran/Jase/UM/Git/basketball-analytics/code/v3/01_scraper.ipynb Cell 5\u001b[0m in \u001b[0;36mfetch_update_hrefs_html\u001b[0;34m(hrefs_index, host, page, last_updated, sleep, output)\u001b[0m\n\u001b[1;32m     <a href='vscode-notebook-cell:/Users/jasetran/Jase/UM/Git/basketball-analytics/code/v3/01_scraper.ipynb#W6sZmlsZQ%3D%3D?line=48'>49</a>\u001b[0m     write(html_content(html_url),local_url)\n\u001b[1;32m     <a href='vscode-notebook-cell:/Users/jasetran/Jase/UM/Git/basketball-analytics/code/v3/01_scraper.ipynb#W6sZmlsZQ%3D%3D?line=49'>50</a>\u001b[0m     hrefs_index\u001b[39m.\u001b[39mto_csv(output)\n\u001b[0;32m---> <a href='vscode-notebook-cell:/Users/jasetran/Jase/UM/Git/basketball-analytics/code/v3/01_scraper.ipynb#W6sZmlsZQ%3D%3D?line=50'>51</a>\u001b[0m     time\u001b[39m.\u001b[39;49msleep(sleep)\n\u001b[1;32m     <a href='vscode-notebook-cell:/Users/jasetran/Jase/UM/Git/basketball-analytics/code/v3/01_scraper.ipynb#W6sZmlsZQ%3D%3D?line=51'>52</a>\u001b[0m \u001b[39mreturn\u001b[39;00m hrefs_index\n",
      "\u001b[0;31mKeyboardInterrupt\u001b[0m: "
     ]
    }
   ],
   "source": [
    "fetch_update_hrefs_html(hrefs_index,page=\"/\",last_updated=0,output=hrefs_index_filepath)"
   ]
  },
  {
   "cell_type": "code",
   "execution_count": null,
   "metadata": {},
   "outputs": [],
   "source": []
  },
  {
   "cell_type": "code",
   "execution_count": null,
   "metadata": {},
   "outputs": [],
   "source": []
  },
  {
   "attachments": {},
   "cell_type": "markdown",
   "metadata": {},
   "source": [
    "We're only interested in Players, Teams, Seasons and Scores"
   ]
  },
  {
   "attachments": {},
   "cell_type": "markdown",
   "metadata": {},
   "source": [
    "Link Tree"
   ]
  },
  {
   "attachments": {},
   "cell_type": "markdown",
   "metadata": {},
   "source": [
    "Players\n",
    "\n",
    "https://www.basketball-reference.com/players/\n",
    "\n",
    "#div_alphabet > ul > li > a href"
   ]
  },
  {
   "attachments": {},
   "cell_type": "markdown",
   "metadata": {},
   "source": [
    "Teams\n",
    "\n",
    "https://www.basketball-reference.com/teams/"
   ]
  },
  {
   "attachments": {},
   "cell_type": "markdown",
   "metadata": {},
   "source": [
    "Leagues https://www.basketball-reference.com/leagues/\n",
    "- Schedule"
   ]
  },
  {
   "attachments": {},
   "cell_type": "markdown",
   "metadata": {},
   "source": [
    "BoxScores\n",
    "\n",
    "https://www.basketball-reference.com/boxscores/"
   ]
  },
  {
   "cell_type": "code",
   "execution_count": null,
   "metadata": {},
   "outputs": [],
   "source": []
  }
 ],
 "metadata": {
  "kernelspec": {
   "display_name": "Python 3",
   "language": "python",
   "name": "python3"
  },
  "language_info": {
   "codemirror_mode": {
    "name": "ipython",
    "version": 3
   },
   "file_extension": ".py",
   "mimetype": "text/x-python",
   "name": "python",
   "nbconvert_exporter": "python",
   "pygments_lexer": "ipython3",
   "version": "3.9.13"
  },
  "orig_nbformat": 4,
  "vscode": {
   "interpreter": {
    "hash": "b0fa6594d8f4cbf19f97940f81e996739fb7646882a419484c72d19e05852a7e"
   }
  }
 },
 "nbformat": 4,
 "nbformat_minor": 2
}
