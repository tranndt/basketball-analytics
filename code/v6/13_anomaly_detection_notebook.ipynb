{
 "cells": [
  {
   "cell_type": "code",
   "execution_count": 1,
   "metadata": {},
   "outputs": [],
   "source": [
    "import pandas as pd\n",
    "import numpy as np\n",
    "import sys\n",
    "import os\n",
    "import bs4\n",
    "from IPython.display import display_html,clear_output, HTML\n",
    "import re\n",
    "from datetime import datetime\n",
    "import ast\n",
    "import itertools\n",
    "from tqdm import tqdm,trange\n",
    "from file_tools import *\n",
    "from request_tools import *\n",
    "from parse_tools import *\n",
    "from load_tools import *\n",
    "from model_tools import *\n",
    "import pyarrow as pa\n",
    "\n",
    "pd.set_option('display.max_columns', None)\n",
    "pd.set_option('display.min_rows', 30)\n",
    "pd.set_option('compute.use_numexpr', False)\n",
    "\n",
    "import warnings\n",
    "from pandas.errors import PerformanceWarning\n",
    "from sklearn.exceptions import DataConversionWarning, ConvergenceWarning\n",
    "pd.options.mode.use_inf_as_na = True\n",
    "warnings.filterwarnings('ignore', category=PerformanceWarning)\n",
    "warnings.filterwarnings('ignore', category=DataConversionWarning)\n",
    "warnings.filterwarnings('ignore', category=ConvergenceWarning)\n",
    "\n",
    "import pandas as pd\n",
    "from sklearn.feature_selection import chi2, f_classif, mutual_info_classif, RFE, mutual_info_regression\n",
    "from sklearn.linear_model import LogisticRegression, Lasso, Ridge\n",
    "from sklearn.ensemble import RandomForestClassifier, RandomForestRegressor\n",
    "from scipy.stats import pearsonr\n",
    "from sklearn.decomposition import PCA\n",
    "from sklearn.preprocessing import StandardScaler\n",
    "from sklearn.feature_selection import VarianceThreshold\n",
    "from sklearn.svm import SVR\n"
   ]
  },
  {
   "cell_type": "code",
   "execution_count": 7,
   "metadata": {},
   "outputs": [
    {
     "data": {
      "text/plain": [
       "((19234, 346), (19234,))"
      ]
     },
     "execution_count": 7,
     "metadata": {},
     "output_type": "execute_result"
    }
   ],
   "source": [
    "SRC_DIR = './07-data-compiled/dataset-ss0110-mnmx-7fg'\n",
    "FEATURES,LABELS = load_dataset(SRC_DIR)\n",
    "FEATURES = FEATURES.dropna().iloc[:]\n",
    "LABELS = LABELS.loc[FEATURES.index]['W/L']\n",
    "\n",
    "FEATURES.shape,LABELS.shape"
   ]
  },
  {
   "cell_type": "code",
   "execution_count": 8,
   "metadata": {},
   "outputs": [
    {
     "data": {
      "text/plain": [
       "((15387, 346), (3847, 346), (15387,), (3847,))"
      ]
     },
     "execution_count": 8,
     "metadata": {},
     "output_type": "execute_result"
    }
   ],
   "source": [
    "X_train,X_test,y_train,y_test = train_test_split(FEATURES,LABELS,test_size=0.2,random_state=42)\n",
    "X_train.shape,X_test.shape,y_train.shape,y_test.shape"
   ]
  },
  {
   "cell_type": "code",
   "execution_count": 27,
   "metadata": {},
   "outputs": [
    {
     "name": "stdout",
     "output_type": "stream",
     "text": [
      "              precision    recall  f1-score   support\n",
      "\n",
      "           0       0.63      0.66      0.65      1904\n",
      "           1       0.65      0.61      0.63      1943\n",
      "\n",
      "    accuracy                           0.64      3847\n",
      "   macro avg       0.64      0.64      0.64      3847\n",
      "weighted avg       0.64      0.64      0.64      3847\n",
      "\n"
     ]
    }
   ],
   "source": [
    "from sklearn.metrics import classification_report\n",
    "\n",
    "\n",
    "model = RandomForestClassifier(n_estimators=100,random_state=42,n_jobs=-1)\n",
    "model.fit(X_train,y_train)\n",
    "y_pred = pd.Series(model.predict(X_test),index=y_test.index)\n",
    "print(classification_report(y_test,y_pred))"
   ]
  },
  {
   "cell_type": "code",
   "execution_count": 55,
   "metadata": {},
   "outputs": [],
   "source": [
    "from sklearn.ensemble import IsolationForest\n",
    "\n",
    "# Assuming X_train contains your training features (excluding the \"WL\" outcome)\n",
    "# You can adjust the contamination parameter based on the expected percentage of outliers\n",
    "iso_forest_model = IsolationForest(contamination=0.5, random_state=42)\n",
    "\n",
    "# Train the Isolation Forest model\n",
    "iso_forest_model.fit(X_train)\n",
    "\n",
    "# Predict anomaly scores for each instance in the dataset\n",
    "anomaly_scores = pd.Series(iso_forest_model.decision_function(X_test),index=X_test.index)\n",
    "\n",
    "# Set a threshold to classify instances with high anomaly scores as outliers\n",
    "# threshold = -0.2\n",
    "# outliers = X_train[anomaly_scores < threshold]"
   ]
  },
  {
   "cell_type": "code",
   "execution_count": 56,
   "metadata": {},
   "outputs": [
    {
     "data": {
      "image/png": "[encoded data removed]",
      "text/plain": [
       "<Figure size 640x480 with 1 Axes>"
      ]
     },
     "metadata": {},
     "output_type": "display_data"
    },
    {
     "data": {
      "image/png": "[encoded data removed]",
      "text/plain": [
       "<Figure size 640x480 with 1 Axes>"
      ]
     },
     "metadata": {},
     "output_type": "display_data"
    }
   ],
   "source": [
    "from matplotlib import pyplot as plt\n",
    "\n",
    "y_pred_correct = y_pred[y_pred == y_test]\n",
    "y_pred_incorrect = y_pred[y_pred != y_test]\n",
    "anomaly_scores_correct = anomaly_scores.loc[y_pred_correct.index]\n",
    "anomaly_scores_incorrect = anomaly_scores.loc[y_pred_incorrect.index]\n",
    "plt.hist(anomaly_scores_correct)\n",
    "plt.show()\n",
    "plt.hist(anomaly_scores_incorrect) # This is the distribution of anomaly scores for incorrect predictions\n",
    "plt.show()\n"
   ]
  },
  {
   "cell_type": "code",
   "execution_count": 57,
   "metadata": {},
   "outputs": [
    {
     "name": "stdout",
     "output_type": "stream",
     "text": [
      "              precision    recall  f1-score   support\n",
      "\n",
      "           0       0.61      0.64      0.63       969\n",
      "           1       0.63      0.60      0.61       972\n",
      "\n",
      "    accuracy                           0.62      1941\n",
      "   macro avg       0.62      0.62      0.62      1941\n",
      "weighted avg       0.62      0.62      0.62      1941\n",
      "\n",
      "              precision    recall  f1-score   support\n",
      "\n",
      "           0       0.64      0.69      0.66       935\n",
      "           1       0.68      0.63      0.65       971\n",
      "\n",
      "    accuracy                           0.66      1906\n",
      "   macro avg       0.66      0.66      0.66      1906\n",
      "weighted avg       0.66      0.66      0.66      1906\n",
      "\n"
     ]
    }
   ],
   "source": [
    "# y_pred_correct = y_pred[y_pred == y_test]\n",
    "# y_pred_incorrect = y_pred[y_pred != y_test]\n",
    "# anomaly_scores_correct = anomaly_scores.loc[y_pred_correct.index]\n",
    "# anomaly_scores_incorrect = anomaly_scores.loc[y_pred_incorrect.index]\n",
    "# plt.hist(anomaly_scores_correct)\n",
    "# plt.show()\n",
    "# plt.hist(anomaly_scores_incorrect) # This is the distribution of anomaly scores for incorrect predictions\n",
    "# plt.show()\n",
    "threshold = 0\n",
    "anomaly_scores_inliers = anomaly_scores[anomaly_scores >= threshold]\n",
    "anomaly_scores_outliers = anomaly_scores[anomaly_scores < threshold]\n",
    "y_pred_inliers = y_pred[anomaly_scores >= threshold]\n",
    "y_pred_outliers = y_pred[anomaly_scores < threshold]\n",
    "print(classification_report(y_test[anomaly_scores >= threshold],y_pred_inliers))\n",
    "print(classification_report(y_test[anomaly_scores < threshold],y_pred_outliers))"
   ]
  },
  {
   "cell_type": "code",
   "execution_count": 11,
   "metadata": {},
   "outputs": [
    {
     "data": {
      "text/plain": [
       "array([0.05259627, 0.03640196, 0.05417717, ..., 0.03804217, 0.02531061,\n",
       "       0.04139683])"
      ]
     },
     "execution_count": 11,
     "metadata": {},
     "output_type": "execute_result"
    }
   ],
   "source": [
    "anomaly_scores\n",
    "\n",
    "# Now 'outliers' contains instances identified as potential outliers\n"
   ]
  },
  {
   "cell_type": "code",
   "execution_count": null,
   "metadata": {},
   "outputs": [],
   "source": []
  }
 ],
 "metadata": {
  "kernelspec": {
   "display_name": ".venv",
   "language": "python",
   "name": "python3"
  },
  "language_info": {
   "codemirror_mode": {
    "name": "ipython",
    "version": 3
   },
   "file_extension": ".py",
   "mimetype": "text/x-python",
   "name": "python",
   "nbconvert_exporter": "python",
   "pygments_lexer": "ipython3",
   "version": "3.9.13"
  }
 },
 "nbformat": 4,
 "nbformat_minor": 2
}
