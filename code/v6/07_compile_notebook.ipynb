{
 "cells": [
  {
   "cell_type": "code",
   "execution_count": 1,
   "metadata": {},
   "outputs": [],
   "source": [
    "import pandas as pd\n",
    "import numpy as np\n",
    "import sys\n",
    "import os\n",
    "import bs4\n",
    "from IPython.display import display_html,clear_output, HTML\n",
    "import re\n",
    "from datetime import datetime\n",
    "import ast\n",
    "import itertools\n",
    "from tqdm import tqdm,trange\n",
    "from file_tools import *\n",
    "from request_tools import *\n",
    "from parse_tools import *\n",
    "from load_tools import *\n",
    "import pyarrow as pa\n",
    "\n",
    "pd.set_option('display.max_columns', None)\n",
    "pd.set_option('display.min_rows', 30)\n",
    "pd.set_option('compute.use_numexpr', False)\n",
    "\n",
    "# import warnings\n",
    "# from pandas.errors import PerformanceWarning\n",
    "# pd.options.mode.use_inf_as_na = True\n",
    "# warnings.filterwarnings('ignore', category=PerformanceWarning)\n",
    "\n",
    "SRC_DIR = './data-indexed'\n",
    "TGT_DIR = './data-aggregated'"
   ]
  },
  {
   "cell_type": "code",
   "execution_count": null,
   "metadata": {},
   "outputs": [],
   "source": [
    "def __load_team_stats_df__(filename):\n",
    "    return pd.read_csv(filename,index_col=[0,1],header=[0,1]).drop(columns='Source',level=0)\n",
    "\n",
    "def __load_facts_df__(filename):\n",
    "    df = pd.read_csv(filename,index_col=[0,1],header=[0])\n",
    "    df.columns = pd.MultiIndex.from_product([['Match Info'],df.columns])\n",
    "    return df\n",
    "\n",
    "def __get_opp_stats_row_df__(STATS_DF,IDX_DF,TM_IDX):\n",
    "    OPP_IDX         = IDX_DF.loc[TM_IDX]\n",
    "    OPP_STATS_DF    = STATS_DF.loc[OPP_IDX].to_frame().T\n",
    "    OPP_STATS_DF.index = pd.MultiIndex.from_tuples([TM_IDX],names=['index','Team_id'])\n",
    "    return OPP_STATS_DF\n",
    "\n",
    "def __get_opp_stats_df__(STATS_DF,IDX_DF):\n",
    "    OPP_STATS_DF_LIST = []\n",
    "    for TM_IDX in STATS_DF.index:\n",
    "        OPP_STATS_DF_LIST.append(__get_opp_stats_row_df__(STATS_DF,IDX_DF,TM_IDX))\n",
    "    OPP_STATS_DF = pd.concat(OPP_STATS_DF_LIST,axis=0)\n",
    "    return OPP_STATS_DF\n",
    "\n",
    "IDX_DIR = './05-data-indexed/'\n",
    "SRC_DIR = './06-data-normalized-reindexed/'\n",
    "LG_SS_DIR = '/leagues/NBA_2020/'\n",
    "print(get_all_files(SRC_DIR+LG_SS_DIR))\n",
    "\n",
    "TM_OPP_MN_IDX = load_index_dict(IDX_DIR+LG_SS_DIR)['team_opp_main']\n",
    "OPP_IDX_DF = TM_OPP_MN_IDX['Opp_Curr_Gm']\n",
    "\n",
    "TGL_FACTS_GM_RESULTS_DIR = 'facts_gm_results_tgl_basic'\n",
    "TGL_FACTS_VEN_REST_DIR = 'facts_venue_rest_days_tgl_basic'\n",
    "\n",
    "TGL_BAS_NORM_CUMU_AVG_DIR = 'norm_minmax_tgl_basic_stats_cumu_avg'\n",
    "TGL_BAS_NORM_VEN_CUMU_AVG_DIR = 'norm_minmax_tgl_basic_stats_ven_cumu_avg'\n",
    "TGL_BAS_NORM_ROLL_08_AVG_DIR = 'norm_minmax_tgl_basic_stats_roll_08_avg'\n",
    "\n",
    "TGL_ADV_NORM_CUMU_AVG_DIR = 'norm_minmax_tgl_advanced_stats_cumu_avg'\n",
    "TGL_ADV_NORM_VEN_CUMU_AVG_DIR = 'norm_minmax_tgl_advanced_stats_ven_cumu_avg'\n",
    "TGL_ADV_NORM_ROLL_08_AVG_DIR = 'norm_minmax_tgl_advanced_stats_roll_08_avg'"
   ]
  },
  {
   "cell_type": "markdown",
   "metadata": {},
   "source": [
    "Team stats and facts"
   ]
  },
  {
   "cell_type": "code",
   "execution_count": null,
   "metadata": {},
   "outputs": [],
   "source": [
    "TGL_FACTS_GM_RESULTS_DF         = __load_facts_df__(f'{SRC_DIR}/{LG_SS_DIR}/{TGL_FACTS_GM_RESULTS_DIR}.csv') # Our label dataframe\n",
    "TGL_FACTS_VEN_REST_DF           = __load_facts_df__(f'{SRC_DIR}/{LG_SS_DIR}/{TGL_FACTS_VEN_REST_DIR}.csv')\n",
    "\n",
    "TGL_BAS_NORM_CUMU_AVG_DF            = __load_team_stats_df__(f'{SRC_DIR}/{LG_SS_DIR}/{TGL_BAS_NORM_CUMU_AVG_DIR}.csv')\n",
    "TGL_BAS_NORM_VEN_CUMU_AVG_REIDX_DF  = __load_team_stats_df__(f'{SRC_DIR}/{LG_SS_DIR}/{TGL_BAS_NORM_VEN_CUMU_AVG_DIR}.csv')\n",
    "TGL_BAS_NORM_ROLL_08_AVG_REIDX_DF   = __load_team_stats_df__(f'{SRC_DIR}/{LG_SS_DIR}/{TGL_BAS_NORM_ROLL_08_AVG_DIR}.csv')\n",
    "\n",
    "TGL_ADV_NORM_CUMU_AVG_REIDX_DF      = __load_team_stats_df__(f'{SRC_DIR}/{LG_SS_DIR}/{TGL_ADV_NORM_CUMU_AVG_DIR}.csv')\n",
    "TGL_ADV_NORM_VEN_CUMU_AVG_REIDX_DF  = __load_team_stats_df__(f'{SRC_DIR}/{LG_SS_DIR}/{TGL_ADV_NORM_VEN_CUMU_AVG_DIR}.csv')\n",
    "TGL_ADV_NORM_ROLL_08_AVG_REIDX_DF   = __load_team_stats_df__(f'{SRC_DIR}/{LG_SS_DIR}/{TGL_ADV_NORM_ROLL_08_AVG_DIR}.csv')"
   ]
  },
  {
   "cell_type": "markdown",
   "metadata": {},
   "source": [
    "Opponents stats"
   ]
  },
  {
   "cell_type": "code",
   "execution_count": null,
   "metadata": {},
   "outputs": [],
   "source": [
    "TGL_OPP_FACTS_VEN_REST_DF = __get_opp_stats_df__(TGL_FACTS_VEN_REST_DF,TM_OPP_MN_IDX['Opp_Curr_Gm'])\n",
    "\n",
    "TGL_OPP_BAS_NORM_CUMU_AVG_DF            = __get_opp_stats_df__(TGL_BAS_NORM_CUMU_AVG_DF,OPP_IDX_DF)\n",
    "TGL_OPP_BAS_NORM_VEN_CUMU_AVG_REIDX_DF  = __get_opp_stats_df__(TGL_BAS_NORM_VEN_CUMU_AVG_REIDX_DF,OPP_IDX_DF)\n",
    "TGL_OPP_BAS_NORM_ROLL_08_AVG_REIDX_DF   = __get_opp_stats_df__(TGL_BAS_NORM_ROLL_08_AVG_REIDX_DF,OPP_IDX_DF)\n",
    "\n",
    "TGL_OPP_ADV_NORM_CUMU_AVG_REIDX_DF      = __get_opp_stats_df__(TGL_ADV_NORM_CUMU_AVG_REIDX_DF,OPP_IDX_DF)\n",
    "TGL_OPP_ADV_NORM_VEN_CUMU_AVG_REIDX_DF  = __get_opp_stats_df__(TGL_ADV_NORM_VEN_CUMU_AVG_REIDX_DF,OPP_IDX_DF)\n",
    "TGL_OPP_ADV_NORM_ROLL_08_AVG_REIDX_DF   = __get_opp_stats_df__(TGL_ADV_NORM_ROLL_08_AVG_REIDX_DF,OPP_IDX_DF)"
   ]
  },
  {
   "cell_type": "markdown",
   "metadata": {},
   "source": [
    "Combined"
   ]
  },
  {
   "cell_type": "code",
   "execution_count": 7,
   "metadata": {},
   "outputs": [
    {
     "name": "stdout",
     "output_type": "stream",
     "text": [
      "{'data_dir': {'data_facts_dir': './00-data-facts', 'data_html_dir': './01-data-html', 'data_parsed_dir': './02-data-parsed', 'data_aggregated_dir': './03-data-aggregated', 'data_normalized_dir': './04-data-normalized', 'data_indexed_dir': './05-data-indexed', 'data_reindexed_dir': './06-data-normalized-reindexed', 'data_compiled_dir': './07-data-compiled'}, 'src_data': {'src_dir': './06-data-normalized-reindexed', 'seasons': [None, None], 'features': ['facts_venue_rest_days_tgl_basic', 'norm_minmax_tgl_basic_stats_cumu_avg', 'norm_minmax_tgl_basic_stats_ven_cumu_avg', 'norm_minmax_tgl_basic_stats_roll_08_avg', 'norm_minmax_tgl_advanced_stats_cumu_avg', 'norm_minmax_tgl_advanced_stats_ven_cumu_avg', 'norm_minmax_tgl_advanced_stats_roll_08_avg'], 'label': 'facts_gm_results_tgl_basic', 'opponent': True}, 'tgt_data': {'tgt_dir': './07-data-compiled', 'dataset_name': 'compiled-dataset'}}\n"
     ]
    }
   ],
   "source": [
    "import yaml\n",
    "\n",
    "def load_yaml(file_path):\n",
    "    with open(file_path, 'r') as file:\n",
    "        config = yaml.safe_load(file)\n",
    "    return config\n",
    "\n",
    "\n",
    "def save_yaml(file_path, config):\n",
    "    with open(file_path, 'w') as file:\n",
    "        yaml.dump(config, file, default_flow_style=False)\n",
    "\n",
    "        \n",
    "# Example usage\n",
    "config = load_yaml('config.yaml')\n",
    "print(config)\n"
   ]
  },
  {
   "cell_type": "code",
   "execution_count": null,
   "metadata": {},
   "outputs": [],
   "source": [
    "# def compile_dataset(opponent=False):\n",
    "SRC_DIR = config['src_dir'] # './06-data-normalized-reindexed/'\n",
    "TGT_DIR = config['tgt_dir'] # './07-data-reindexed-compiled/'\n",
    "IDX_DIR = config['idx_dir'] # './05-data-indexed/'\n",
    "LG_SS_START, LG_SS_END = config['seasons'] # '/leagues/NBA_2020/'\n",
    "opponent = config['opponent']\n",
    "SRC_DATATSETS_NAMES = config['src_datasets_names']\n",
    "LABEL = config['label']\n",
    "\n",
    "\n",
    "LG_SS_DIR = '/leagues/NBA_2023/'\n",
    "\n",
    "opponent=True\n",
    "SRC_DATATSETS_NAMES = [\n",
    "    'facts_venue_rest_days_tgl_basic',\n",
    "    'norm_minmax_tgl_basic_stats_cumu_avg',\n",
    "    'norm_minmax_tgl_basic_stats_ven_cumu_avg',\n",
    "    'norm_minmax_tgl_basic_stats_roll_08_avg',\n",
    "    'norm_minmax_tgl_advanced_stats_cumu_avg',\n",
    "    'norm_minmax_tgl_advanced_stats_ven_cumu_avg',\n",
    "    'norm_minmax_tgl_advanced_stats_roll_08_avg'\n",
    "]\n",
    "LABEL = 'facts_gm_results_tgl_basic'\n",
    "OPP_IDX_DF = load_index_dict(IDX_DIR+LG_SS_DIR)['team_opp_main']['Opp_Curr_Gm']\n",
    "DATASETS = {}\n",
    "for SRC_DATASET_NAME in SRC_DATATSETS_NAMES:\n",
    "    SRC_DATASET_DIR = f'{SRC_DIR}/{LG_SS_DIR}/{SRC_DATASET_NAME}'\n",
    "    if 'facts' in SRC_DATASET_NAME:\n",
    "        TM_DATASET_DF = __load_facts_df__(f'{SRC_DATASET_DIR}.csv')\n",
    "        DATASETS[f'Team_{SRC_DATASET_NAME}']  = TM_DATASET_DF\n",
    "        if opponent:\n",
    "            OPP_DATASET_DF = __get_opp_stats_df__(TM_DATASET_DF,OPP_IDX_DF)\n",
    "            DATASETS[f'Opp_{SRC_DATASET_NAME}'] = OPP_DATASET_DF\n",
    "    else:\n",
    "        TM_DATASET_DF = __load_team_stats_df__(f'{SRC_DATASET_DIR}.csv')\n",
    "        DATASETS[f'Team_{SRC_DATASET_NAME}']  = TM_DATASET_DF\n",
    "        if opponent:\n",
    "            OPP_DATASET_DF = __get_opp_stats_df__(TM_DATASET_DF,OPP_IDX_DF)\n",
    "            DATASETS[f'Opp_{SRC_DATASET_NAME}'] = OPP_DATASET_DF\n",
    "FEATURES_DF = pd.concat(DATASETS.values(),keys=DATASETS.keys(),axis=1)\n",
    "LABELS_DF = __load_facts_df__(f'{SRC_DIR}/{LG_SS_DIR}/{LABEL}.csv')\n",
    "\n",
    "make_directory(f'{TGT_DIR}/{LG_SS_DIR}')\n",
    "FEATURES_DF.to_csv(f'{TGT_DIR}/{LG_SS_DIR}/features.csv')\n",
    "LABELS_DF.to_csv(f'{TGT_DIR}/{LG_SS_DIR}/labels.csv')\n",
    "    # return FEATURES_DF,LABEL_DF\n",
    "\n",
    "        # SRC_DATASET_DF = __load_facts_df__(f'{SRC_DATASET_DIR}.csv')\n",
    "        # SRC_DATASET_OPP_DF = get_opp_stats_df(SRC_DATASET_DF,TM_OPP_MN_IDX['Opp_Curr_Gm'])\n",
    "        # SRC_DATASET_OPP_DF.to_csv(f'{SRC_DATASET_DIR}_opp.csv')"
   ]
  },
  {
   "cell_type": "code",
   "execution_count": null,
   "metadata": {},
   "outputs": [],
   "source": [
    "FEATURES_DF.dropna().describe()"
   ]
  },
  {
   "cell_type": "code",
   "execution_count": null,
   "metadata": {},
   "outputs": [],
   "source": [
    "FEATURES_DF.dropna()"
   ]
  },
  {
   "cell_type": "code",
   "execution_count": null,
   "metadata": {},
   "outputs": [],
   "source": [
    "LABELS_DF"
   ]
  },
  {
   "cell_type": "code",
   "execution_count": null,
   "metadata": {},
   "outputs": [],
   "source": []
  },
  {
   "cell_type": "code",
   "execution_count": null,
   "metadata": {},
   "outputs": [],
   "source": [
    "FEATURES_DF = pd.concat(DATASETS.values(),keys=DATASETS.keys(),axis=1)\n",
    "LABEL_DF = __load_facts_df__(f'{SRC_DIR}/{LG_SS_DIR}/{LABEL}.csv')"
   ]
  },
  {
   "cell_type": "code",
   "execution_count": null,
   "metadata": {},
   "outputs": [],
   "source": [
    "TGL_ALL_DF = pd.concat([TGL_FACTS_VEN_REST_DF,\n",
    "                        TGL_BAS_ADV_STATS_CUMU_AVG_NORM_TM_OPP_DF_REIDX,\n",
    "                        TGL_BAS_ADV_STATS_VEN_CUMU_AVG_NORM_TM_OPP_DF_REIDX,\n",
    "                        TGL_BAS_ADV_STATS_ROLL_08_AVG_NORM_TM_OPP_DF_REIDX],axis=1,\n",
    "                        keys = ['facts_venue_rest_days',\n",
    "                                'stats_cumu_avg',\n",
    "                                'stats_venue_cumu_avg',\n",
    "                                'stats_roll_08_avg'])"
   ]
  },
  {
   "cell_type": "code",
   "execution_count": null,
   "metadata": {},
   "outputs": [],
   "source": [
    "TGL_OPP_BAS_NORM_CUMU_AVG_DF"
   ]
  },
  {
   "cell_type": "code",
   "execution_count": null,
   "metadata": {},
   "outputs": [],
   "source": [
    "\n",
    "# TGL_BAS_ADV_STATS_VEN_CUMU_AVG_NORM_TM_OPP_DF_REIDX = get_team_opp_stats_df(TGL_BAS_ADV_STATS_VEN_CUMU_AVG_NORM_DF_REIDX,IDX_DICT['team_opp_games'])\n",
    "# TGL_BAS_ADV_STATS_ROLL_08_AVG_NORM_TM_OPP_DF_REIDX = get_team_opp_stats_df(TGL_BAS_ADV_STATS_ROLL_08_AVG_NORM_DF_REIDX,IDX_DICT['team_opp_games'])"
   ]
  },
  {
   "cell_type": "code",
   "execution_count": null,
   "metadata": {},
   "outputs": [],
   "source": []
  },
  {
   "cell_type": "code",
   "execution_count": null,
   "metadata": {},
   "outputs": [],
   "source": [
    "TM_OPP_MN_IDX = IDX_DICT['team_opp_main']\n",
    "TGL_BAS_STATS_CUMU_AVG_NORM_DF_REIDX = __reindex_stats__(TGL_BAS_STATS_CUMU_AVG_NORM_DF,TM_OPP_MN_IDX['Team_Prev_Gm_01'])\n",
    "TGL_BAS_STATS_VEN_CUMU_AVG_NORM_DF_REIDX = __reindex_stats__(TGL_BAS_STATS_VEN_CUMU_AVG_NORM_DF,TM_OPP_MN_IDX['Team_Ven_Prev_Gm_01'])\n",
    "TGL_BAS_STATS_ROLL_08_AVG_NORM_DF_REIDX = __reindex_stats__(TGL_BAS_STATS_ROLL_08_AVG_NORM_DF,TM_OPP_MN_IDX['Team_Prev_Gm_01'])\n",
    "TGL_ADV_STATS_CUMU_AVG_NORM_DF_REIDX = __reindex_stats__(TGL_ADV_STATS_CUMU_AVG_NORM_DF,TM_OPP_MN_IDX['Team_Prev_Gm_01'])\n",
    "TGL_ADV_STATS_VEN_CUMU_AVG_NORM_DF_REIDX = __reindex_stats__(TGL_ADV_STATS_VEN_CUMU_AVG_NORM_DF,TM_OPP_MN_IDX['Team_Ven_Prev_Gm_01'])\n",
    "TGL_ADV_STATS_ROLL_08_AVG_NORM_DF_REIDX = __reindex_stats__(TGL_ADV_STATS_ROLL_08_AVG_NORM_DF,TM_OPP_MN_IDX['Team_Prev_Gm_01'])\n",
    "\n",
    "TGL_BAS_ADV_STATS_CUMU_AVG_NORM_DF_REIDX = pd.concat([TGL_BAS_STATS_CUMU_AVG_NORM_DF_REIDX,TGL_ADV_STATS_CUMU_AVG_NORM_DF_REIDX],axis=1)\n",
    "TGL_BAS_ADV_STATS_VEN_CUMU_AVG_NORM_DF_REIDX = pd.concat([TGL_BAS_STATS_VEN_CUMU_AVG_NORM_DF_REIDX,TGL_ADV_STATS_VEN_CUMU_AVG_NORM_DF_REIDX],axis=1)\n",
    "TGL_BAS_ADV_STATS_ROLL_08_AVG_NORM_DF_REIDX = pd.concat([TGL_BAS_STATS_ROLL_08_AVG_NORM_DF_REIDX,TGL_ADV_STATS_ROLL_08_AVG_NORM_DF_REIDX],axis=1)\n",
    "\n",
    "TGL_BAS_ADV_STATS_CUMU_AVG_NORM_TM_OPP_DF_REIDX = get_team_opp_stats_df(TGL_BAS_ADV_STATS_CUMU_AVG_NORM_DF_REIDX,IDX_DICT['team_opp_games'])\n",
    "TGL_BAS_ADV_STATS_VEN_CUMU_AVG_NORM_TM_OPP_DF_REIDX = get_team_opp_stats_df(TGL_BAS_ADV_STATS_VEN_CUMU_AVG_NORM_DF_REIDX,IDX_DICT['team_opp_games'])\n",
    "TGL_BAS_ADV_STATS_ROLL_08_AVG_NORM_TM_OPP_DF_REIDX = get_team_opp_stats_df(TGL_BAS_ADV_STATS_ROLL_08_AVG_NORM_DF_REIDX,IDX_DICT['team_opp_games'])\n",
    "\n",
    "TGL_FACTS_GM_RESULTS_DF = __load_season_facts_from_dir__(os.path.join(SRC_DIR,LG_SS_DIR,TGL_FACTS_GM_RESULTS_DIR))\n",
    "TGL_FACTS_VEN_REST_DF = __load_season_facts_from_dir__(os.path.join(SRC_DIR,LG_SS_DIR,TGL_FACTS_VEN_REST_DIR))\n",
    "TGL_FACTS_VEN_REST_DF.columns = pd.MultiIndex.from_product([['Match'],['Info'], TGL_FACTS_VEN_REST_DF.columns]) # So that it can be concatenated with TGL_FACTS_GM_RESULTS_DF\n",
    "TGL_FACTS_GM_RESULTS_DF.columns = pd.MultiIndex.from_product([['Match'],['Results'], TGL_FACTS_GM_RESULTS_DF.columns])\n",
    "\n",
    "# TGL_BAS_ADV_STATS_CUMU_AVG_NORM_DF"
   ]
  },
  {
   "cell_type": "code",
   "execution_count": null,
   "metadata": {},
   "outputs": [],
   "source": [
    "TGL_ALL_DF = pd.concat([TGL_FACTS_VEN_REST_DF,\n",
    "                        TGL_BAS_ADV_STATS_CUMU_AVG_NORM_TM_OPP_DF_REIDX,\n",
    "                        TGL_BAS_ADV_STATS_VEN_CUMU_AVG_NORM_TM_OPP_DF_REIDX,\n",
    "                        TGL_BAS_ADV_STATS_ROLL_08_AVG_NORM_TM_OPP_DF_REIDX],axis=1,\n",
    "                        keys = ['facts_venue_rest_days',\n",
    "                                'stats_cumu_avg',\n",
    "                                'stats_venue_cumu_avg',\n",
    "                                'stats_roll_08_avg'])\n",
    "\n",
    "TGL_ALL_DF"
   ]
  },
  {
   "cell_type": "code",
   "execution_count": null,
   "metadata": {},
   "outputs": [],
   "source": []
  },
  {
   "cell_type": "code",
   "execution_count": null,
   "metadata": {},
   "outputs": [],
   "source": []
  },
  {
   "cell_type": "code",
   "execution_count": null,
   "metadata": {},
   "outputs": [],
   "source": []
  },
  {
   "cell_type": "code",
   "execution_count": null,
   "metadata": {},
   "outputs": [],
   "source": [
    "SS_STATS_DF = TGL_BAS_ADV_STATS_CUMU_AVG_NORM_DF_REIDX.copy()\n",
    "GM_IDX_I = IDX_DICT['team_opp_games'].iloc[1000]\n",
    "TM_IDX_I = GM_IDX_I['Team']\n",
    "OPP_IDX_I = GM_IDX_I['Opp']\n",
    "\n",
    "TM_DF_I = SS_STATS_DF.loc[TM_IDX_I]\n",
    "OPP_DF_I = SS_STATS_DF.loc[OPP_IDX_I]\n",
    "TM_OPP_DF_I = pd.concat([TM_DF_I,OPP_DF_I],keys=['Team_Cumu_Stats','Opponent_Cumu_Stats']).to_frame().T\n",
    "TM_OPP_DF_I.index = pd.MultiIndex.from_tuples([TM_IDX_I],names=['index','Team_id'])\n",
    "TM_OPP_DF_I\n"
   ]
  },
  {
   "cell_type": "code",
   "execution_count": null,
   "metadata": {},
   "outputs": [],
   "source": [
    "OPP_TM_DF_I = pd.concat([OPP_DF_I,TM_DF_I],keys=['Team_Cumu_Stats','Opponent_Cumu_Stats']).to_frame().T\n",
    "OPP_TM_DF_I.index = pd.MultiIndex.from_tuples([OPP_IDX_I],names=['index','Team_id'])\n",
    "OPP_TM_DF_I"
   ]
  }
 ],
 "metadata": {
  "kernelspec": {
   "display_name": ".venv",
   "language": "python",
   "name": "python3"
  },
  "language_info": {
   "codemirror_mode": {
    "name": "ipython",
    "version": 3
   },
   "file_extension": ".py",
   "mimetype": "text/x-python",
   "name": "python",
   "nbconvert_exporter": "python",
   "pygments_lexer": "ipython3",
   "version": "3.9.13"
  }
 },
 "nbformat": 4,
 "nbformat_minor": 2
}
