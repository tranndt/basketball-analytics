{
 "cells": [
  {
   "cell_type": "code",
   "execution_count": 1,
   "metadata": {},
   "outputs": [],
   "source": [
    "from file_tools import *\n",
    "from request_tools import *\n",
    "from parse_tools import *\n",
    "from load_tools import *\n",
    "import time\n",
    "from tqdm import tqdm\n",
    "pd.set_option('display.max_columns', None)\n",
    "pd.set_option('display.min_rows', 30)\n",
    "SRC_DIR = './02-data-parsed'\n",
    "TGT_DIR = './03-data-aggregated'"
   ]
  },
  {
   "cell_type": "code",
   "execution_count": 2,
   "metadata": {},
   "outputs": [
    {
     "data": {
      "text/plain": [
       "\"dict_keys(['box-away-game-advanced-total', 'box-away-game-advanced', 'box-away-game-basic-total', 'box-away-game-basic', 'box-away-h1-basic-total', 'box-away-h1-basic', 'box-away-h2-basic-total', 'box-away-h2-basic', 'box-away-q1-basic-total', 'box-away-q1-basic', 'box-away-q2-basic-total', 'box-away-q2-basic', 'box-away-q3-basic-total', 'box-away-q3-basic', 'box-away-q4-basic-total', 'box-away-q4-basic', 'box-home-game-advanced-total', 'box-home-game-advanced', 'box-home-game-basic-total', 'box-home-game-basic', 'box-home-h1-basic-total', 'box-home-h1-basic', 'box-home-h2-basic-total', 'box-home-h2-basic', 'box-home-q1-basic-total', 'box-home-q1-basic', 'box-home-q2-basic-total', 'box-home-q2-basic', 'box-home-q3-basic-total', 'box-home-q3-basic', 'box-home-q4-basic-total', 'box-home-q4-basic', 'four_factors', 'info-away-home-teams', 'line_score'])\""
      ]
     },
     "execution_count": 2,
     "metadata": {},
     "output_type": "execute_result"
    }
   ],
   "source": [
    "SRC_DIR = './02-data-parsed/boxscores'\n",
    "BOXSCORE_ID = '202202140BRK'\n",
    "BOXSCORE_HREF = '/boxscores/' + BOXSCORE_ID + '.html'\n",
    "BOXSCORES_DFS = load_all_df_from_dir(os.path.join(SRC_DIR, BOXSCORE_ID))\n",
    "str(BOXSCORES_DFS.keys())\n",
    "# iter_tables(BOXSCORES_DFS, 1)"
   ]
  },
  {
   "cell_type": "code",
   "execution_count": null,
   "metadata": {},
   "outputs": [],
   "source": [
    "\n",
    "SRC_DIR = './02-data-parsed/boxscores/'\n",
    "TGT_DIR = './03-data-aggregated/boxscores-test/'\n",
    "\n",
    "def compile_boxscores_players(keys):\n",
    "    boxscores_players = []\n",
    "    for boxscores_id in sorted(get_all_folders(SRC_DIR),reverse=True)[:500]:\n",
    "        BOXSCORE_HREF = '/boxscores/' + boxscores_id + '.html'\n",
    "        BOXSCORES_DFS = load_all_df_from_dir(os.path.join(SRC_DIR, boxscores_id))\n",
    "        for key in sorted(BOXSCORES_DFS.keys()):\n",
    "            if key in keys:\n",
    "                df = BOXSCORES_DFS[key].copy()\\\n",
    "                    .drop(columns=['Unnamed: 0','team','player'])\\\n",
    "                    .rename(columns={'team_href':'team_id','player_href':'player_id'})\\\n",
    "                    .fillna(0)\n",
    "                df.insert(0,'boxscore_id',BOXSCORE_HREF)\n",
    "                boxscores_players.append(df)\n",
    "    boxscores_players = pd.concat(boxscores_players).set_index(['boxscore_id','team_id','player_id'])\n",
    "    for na_keywords in ['Did Not Play','Did Not Dress','Coach\\'s Decision','','Not With Team','Player Suspended','DNP']:\n",
    "        boxscores_players.replace(na_keywords,np.nan,inplace=True)\n",
    "    return boxscores_players\n",
    "\n",
    "def compile_boxscores_teams(keys):\n",
    "    boxscores_teams = []\n",
    "    for boxscores_id in sorted(get_all_folders(SRC_DIR),reverse=True)[:500]:\n",
    "        BOXSCORE_HREF = '/boxscores/' + boxscores_id + '.html'\n",
    "        BOXSCORES_DFS = load_all_df_from_dir(os.path.join(SRC_DIR, boxscores_id))\n",
    "        for key in sorted(BOXSCORES_DFS.keys()):\n",
    "            if key in keys:\n",
    "                df = BOXSCORES_DFS[key].copy()\\\n",
    "                    .drop(columns=['Unnamed: 0','team'])\\\n",
    "                    .rename(columns={'team_href':'team_id'})\\\n",
    "                    .fillna(0)\n",
    "                df.insert(0,'boxscore_id',BOXSCORE_HREF)\n",
    "                boxscores_teams.append(df)\n",
    "    boxscores_teams = pd.concat(boxscores_teams).set_index(['boxscore_id','team_id'])\n",
    "    return boxscores_teams\n",
    "\n",
    "def compile_all_boxscores():\n",
    "    boxscores_keys_dict = {\n",
    "        'boxscores_players_G':['box-away-game-basic','box-home-game-basic'],\n",
    "        'boxscores_players_1Q':['box-away-q1-basic','box-home-q1-basic'],\n",
    "        'boxscores_players_2Q':['box-away-h1-basic','box-home-h1-basic'],\n",
    "        'boxscores_players_3Q':['box-away-q3-basic','box-home-q3-basic'],\n",
    "        'boxscores_players_H2':['box-away-h2-basic','box-home-h2-basic'],\n",
    "        'boxscores_teams_G':['box-away-game-basic-total','box-home-game-basic-total'],\n",
    "        'boxscores_teams_1Q':['box-away-q1-basic-total','box-home-q1-basic-total'],\n",
    "        'boxscores_teams_2Q':['box-away-h1-basic-total','box-home-h1-basic-total'],\n",
    "        'boxscores_teams_3Q':['box-away-q3-basic-total','box-home-q3-basic-total'],\n",
    "        'boxscores_teams_H2':['box-away-h2-basic-total','box-home-h2-basic-total'],\n",
    "    }\n",
    "    make_directory(TGT_DIR)\n",
    "    TQDM_ITEMS = tqdm(boxscores_keys_dict.items())\n",
    "    for boxscores_name, keys in TQDM_ITEMS:\n",
    "        TQDM_ITEMS.set_description(boxscores_name)\n",
    "        if boxscores_name.startswith('boxscores_teams'):\n",
    "            boxscores_df = compile_boxscores_teams(keys)\n",
    "        else:\n",
    "            boxscores_df = compile_boxscores_players(keys)\n",
    "        # Correct 3Q stats and percentages (3Q = 2Q + Q3)\n",
    "        if boxscores_name == 'boxscores_players_3Q':\n",
    "            boxscores_df_2Q = pd.read_csv(os.path.join(TGT_DIR, 'boxscores_players_2Q.csv'), index_col=[0,1,2]).astype(float)\n",
    "            boxscores_df = boxscores_df + boxscores_df_2Q\n",
    "            boxscores_df['fg%'] = (boxscores_df['fg']/boxscores_df['fga']).fillna(0)\n",
    "            boxscores_df['3p%'] = (boxscores_df['3p']/boxscores_df['3pa']).fillna(0)\n",
    "            boxscores_df['ft%'] = (boxscores_df['ft']/boxscores_df['fta']).fillna(0)\n",
    "        elif boxscores_name == 'boxscores_teams_3Q':\n",
    "            boxscores_df_2Q = pd.read_csv(os.path.join(TGT_DIR, 'boxscores_teams_2Q.csv'), index_col=[0,1]).astype(float)\n",
    "            boxscores_df = boxscores_df + boxscores_df_2Q\n",
    "            boxscores_df['fg%'] = (boxscores_df['fg']/boxscores_df['fga']).fillna(0)\n",
    "            boxscores_df['3p%'] = (boxscores_df['3p']/boxscores_df['3pa']).fillna(0)\n",
    "            boxscores_df['ft%'] = (boxscores_df['ft']/boxscores_df['fta']).fillna(0)\n",
    "        boxscores_df.to_csv(os.path.join(TGT_DIR, boxscores_name + '.csv'))\n",
    "\n",
    "\n",
    "# compile_all_boxscores()"
   ]
  },
  {
   "cell_type": "code",
   "execution_count": null,
   "metadata": {},
   "outputs": [],
   "source": []
  },
  {
   "cell_type": "code",
   "execution_count": null,
   "metadata": {},
   "outputs": [],
   "source": [
    "# DATA_PARSED_FOLDER = './02-data-parsed/boxscores/'\n",
    "# TQDM_FOLDERS = tqdm(sorted(get_all_folders(DATA_PARSED_FOLDER)))\n",
    "# exceptions = set()\n",
    "# for boxscores_folder in TQDM_FOLDERS:\n",
    "#     TQDM_FOLDERS.set_description('Processing %s' % boxscores_folder)\n",
    "#     for boxscores_file in get_all_files(os.path.join(DATA_PARSED_FOLDER, boxscores_folder)):\n",
    "#         if boxscores_file.startswith(('box-away-game-basic','box-home-game-basic','box-away-game-advanced','box-home-game-advanced'\n",
    "#             'box-away-h1-basic','box-home-h1-basic',\n",
    "#             'box-away-h2-basic','box-home-h2-basic',\n",
    "#             'box-away-q1-basic','box-home-q1-basic',\n",
    "#             'box-away-q2-basic','box-home-q2-basic',\n",
    "#             'box-away-q3-basic','box-home-q3-basic',\n",
    "#             'box-away-q4-basic','box-home-q4-basic')):\n",
    "#             df = pd.read_csv(os.path.join(DATA_PARSED_FOLDER, boxscores_folder, boxscores_file))\n",
    "#             for na_keywords in ['Did Not Play','Did Not Dress','Coach\\'s Decision','','Not With Team','Player Suspended','DNP']:\n",
    "#                 df.replace(na_keywords, np.nan,inplace=True)\n",
    "#             try:\n",
    "#                 df.iloc[:,5:].astype(float)\n",
    "#             except Exception as e:\n",
    "#                 if str(e) not in exceptions:\n",
    "#                     print(boxscores_folder,e)\n",
    "#                     exceptions.add(str(e))\n",
    "\n",
    "        # df.to_csv(os.path.join(DATA_PARSED_FOLDER, boxscores_folder, boxscores_file))"
   ]
  }
 ],
 "metadata": {
  "kernelspec": {
   "display_name": ".venv",
   "language": "python",
   "name": "python3"
  },
  "language_info": {
   "codemirror_mode": {
    "name": "ipython",
    "version": 3
   },
   "file_extension": ".py",
   "mimetype": "text/x-python",
   "name": "python",
   "nbconvert_exporter": "python",
   "pygments_lexer": "ipython3",
   "version": "3.9.13"
  }
 },
 "nbformat": 4,
 "nbformat_minor": 2
}
